{
 "cells": [
  {
   "cell_type": "markdown",
   "metadata": {},
   "source": [
    "## True AlexNet implementation with generator and Grayscale images\n",
    "Each image 320x240x1"
   ]
  },
  {
   "cell_type": "code",
   "execution_count": 1,
   "metadata": {},
   "outputs": [
    {
     "data": {
      "text/plain": [
       "[name: \"/device:CPU:0\"\n",
       " device_type: \"CPU\"\n",
       " memory_limit: 268435456\n",
       " locality {\n",
       " }\n",
       " incarnation: 1790062637444749394, name: \"/device:GPU:0\"\n",
       " device_type: \"GPU\"\n",
       " memory_limit: 356122624\n",
       " locality {\n",
       "   bus_id: 1\n",
       " }\n",
       " incarnation: 14714242894333997388\n",
       " physical_device_desc: \"device: 0, name: Tesla K80, pci bus id: 0000:00:1e.0, compute capability: 3.7\"]"
      ]
     },
     "execution_count": 1,
     "metadata": {},
     "output_type": "execute_result"
    }
   ],
   "source": [
    "import tensorflow as tf\n",
    "from tensorflow.python.client import device_lib\n",
    "sess = tf.Session(config=tf.ConfigProto(log_device_placement=True))\n",
    "device_lib.list_local_devices()"
   ]
  },
  {
   "cell_type": "code",
   "execution_count": 2,
   "metadata": {},
   "outputs": [
    {
     "name": "stderr",
     "output_type": "stream",
     "text": [
      "Using TensorFlow backend.\n"
     ]
    }
   ],
   "source": [
    "import numpy as np\n",
    "from keras.preprocessing.image import ImageDataGenerator\n",
    "from keras.models import Sequential\n",
    "from keras.layers import Conv2D, MaxPooling2D\n",
    "from keras.layers import Activation, Dropout, Flatten, Dense\n",
    "from keras.callbacks import ModelCheckpoint\n",
    "from keras.utils.vis_utils import plot_model\n",
    "from sklearn.utils import shuffle\n",
    "from keras import backend as K\n",
    "import matplotlib.pyplot as plt"
   ]
  },
  {
   "cell_type": "code",
   "execution_count": 3,
   "metadata": {},
   "outputs": [],
   "source": [
    "width, height = 320, 240\n",
    "train_data_dir = '../gen_x3/train'\n",
    "test_data_dir = '../gen_x3/test'\n",
    "nb_train_samples = 47232\n",
    "nb_test_samples = 11808\n",
    "epochs = 20\n",
    "batch_size = 64\n",
    "\n",
    "input_shape = (width, height, 1)"
   ]
  },
  {
   "cell_type": "code",
   "execution_count": 4,
   "metadata": {},
   "outputs": [
    {
     "name": "stdout",
     "output_type": "stream",
     "text": [
      "WARNING:tensorflow:From /usr/local/lib/python3.5/dist-packages/keras/backend/tensorflow_backend.py:1264: calling reduce_prod (from tensorflow.python.ops.math_ops) with keep_dims is deprecated and will be removed in a future version.\n",
      "Instructions for updating:\n",
      "keep_dims is deprecated, use keepdims instead\n"
     ]
    }
   ],
   "source": [
    "model = Sequential()\n",
    "model.add(Conv2D(96, kernel_size=(15, 15), strides=(4, 4), input_shape=input_shape, activation='relu'))\n",
    "model.add(MaxPooling2D(pool_size=(2, 2)))\n",
    "\n",
    "model.add(Conv2D(256, kernel_size=(9, 9), activation='relu'))\n",
    "model.add(MaxPooling2D(pool_size=(2, 2)))\n",
    "\n",
    "model.add(Flatten())\n",
    "\n",
    "model.add(Dense(2048, activation='relu'))\n",
    "model.add(Dropout(0.2))\n",
    "model.add(Dense(512, activation='relu'))\n",
    "model.add(Dense(6, activation='softmax'))"
   ]
  },
  {
   "cell_type": "code",
   "execution_count": 5,
   "metadata": {},
   "outputs": [
    {
     "name": "stdout",
     "output_type": "stream",
     "text": [
      "WARNING:tensorflow:From /usr/local/lib/python3.5/dist-packages/keras/backend/tensorflow_backend.py:2885: calling reduce_sum (from tensorflow.python.ops.math_ops) with keep_dims is deprecated and will be removed in a future version.\n",
      "Instructions for updating:\n",
      "keep_dims is deprecated, use keepdims instead\n",
      "WARNING:tensorflow:From /usr/local/lib/python3.5/dist-packages/keras/backend/tensorflow_backend.py:1349: calling reduce_mean (from tensorflow.python.ops.math_ops) with keep_dims is deprecated and will be removed in a future version.\n",
      "Instructions for updating:\n",
      "keep_dims is deprecated, use keepdims instead\n"
     ]
    }
   ],
   "source": [
    "model.compile(loss='categorical_crossentropy',\n",
    "              optimizer='adam',\n",
    "              metrics=['accuracy'])"
   ]
  },
  {
   "cell_type": "code",
   "execution_count": 6,
   "metadata": {},
   "outputs": [
    {
     "name": "stdout",
     "output_type": "stream",
     "text": [
      "_________________________________________________________________\n",
      "Layer (type)                 Output Shape              Param #   \n",
      "=================================================================\n",
      "conv2d_1 (Conv2D)            (None, 77, 57, 96)        21696     \n",
      "_________________________________________________________________\n",
      "max_pooling2d_1 (MaxPooling2 (None, 38, 28, 96)        0         \n",
      "_________________________________________________________________\n",
      "conv2d_2 (Conv2D)            (None, 30, 20, 256)       1990912   \n",
      "_________________________________________________________________\n",
      "max_pooling2d_2 (MaxPooling2 (None, 15, 10, 256)       0         \n",
      "_________________________________________________________________\n",
      "flatten_1 (Flatten)          (None, 38400)             0         \n",
      "_________________________________________________________________\n",
      "dense_1 (Dense)              (None, 2048)              78645248  \n",
      "_________________________________________________________________\n",
      "dropout_1 (Dropout)          (None, 2048)              0         \n",
      "_________________________________________________________________\n",
      "dense_2 (Dense)              (None, 512)               1049088   \n",
      "_________________________________________________________________\n",
      "dense_3 (Dense)              (None, 6)                 3078      \n",
      "=================================================================\n",
      "Total params: 81,710,022\n",
      "Trainable params: 81,710,022\n",
      "Non-trainable params: 0\n",
      "_________________________________________________________________\n",
      "None\n"
     ]
    }
   ],
   "source": [
    "# summarize model and apply checkpoints\n",
    "print(model.summary())\n",
    "filepath = 'generator2_True_AlexNet-{epoch:02d}-{loss:.4f}.h5'\n",
    "checkpoint = ModelCheckpoint(filepath, monitor='loss', verbose=1, save_best_only=True, mode='min')\n",
    "callbacks_list = [checkpoint]"
   ]
  },
  {
   "cell_type": "code",
   "execution_count": 7,
   "metadata": {},
   "outputs": [],
   "source": [
    "train_datagen = ImageDataGenerator(\n",
    "    rescale=1. / 255,\n",
    "    shear_range=0.20,\n",
    "    zoom_range=0.15,\n",
    "    fill_mode='nearest')\n",
    "test_datagen = ImageDataGenerator(rescale=1. / 255)"
   ]
  },
  {
   "cell_type": "code",
   "execution_count": 8,
   "metadata": {},
   "outputs": [
    {
     "name": "stdout",
     "output_type": "stream",
     "text": [
      "Found 47232 images belonging to 6 classes.\n",
      "Found 11808 images belonging to 6 classes.\n"
     ]
    }
   ],
   "source": [
    "train_generator = train_datagen.flow_from_directory(\n",
    "    train_data_dir,\n",
    "    target_size=(width, height),\n",
    "    batch_size=batch_size,\n",
    "    color_mode='grayscale',\n",
    "    class_mode='categorical',\n",
    "    classes=['1', '2', '3', '4', '5', '6'],\n",
    "    shuffle=True,\n",
    "    seed=2018)\n",
    "\n",
    "test_generator = test_datagen.flow_from_directory(\n",
    "    test_data_dir,\n",
    "    target_size=(width, height),\n",
    "    batch_size=batch_size,\n",
    "    color_mode='grayscale',\n",
    "    class_mode='categorical',\n",
    "    classes=['1', '2', '3', '4', '5', '6'],\n",
    "    shuffle=True,\n",
    "    seed=2018)"
   ]
  },
  {
   "cell_type": "code",
   "execution_count": 9,
   "metadata": {},
   "outputs": [
    {
     "name": "stdout",
     "output_type": "stream",
     "text": [
      "Epoch 1/20\n",
      "737/738 [============================>.] - ETA: 0s - loss: 1.8085 - acc: 0.1655Epoch 00001: loss improved from inf to 1.80848, saving model to generator2_True_AlexNet-01-1.8085.h5\n",
      "738/738 [==============================] - 239s 324ms/step - loss: 1.8085 - acc: 0.1655 - val_loss: 1.7918 - val_acc: 0.1668\n",
      "Epoch 2/20\n",
      "737/738 [============================>.] - ETA: 0s - loss: 1.7919 - acc: 0.1616Epoch 00002: loss improved from 1.80848 to 1.79186, saving model to generator2_True_AlexNet-02-1.7919.h5\n",
      "738/738 [==============================] - 232s 315ms/step - loss: 1.7919 - acc: 0.1616 - val_loss: 1.7918 - val_acc: 0.1666\n",
      "Epoch 3/20\n",
      "737/738 [============================>.] - ETA: 0s - loss: 1.7919 - acc: 0.1653Epoch 00003: loss did not improve\n",
      "738/738 [==============================] - 233s 316ms/step - loss: 1.7919 - acc: 0.1653 - val_loss: 1.7918 - val_acc: 0.1668\n",
      "Epoch 4/20\n",
      "737/738 [============================>.] - ETA: 0s - loss: 1.7919 - acc: 0.1627Epoch 00004: loss did not improve\n",
      "738/738 [==============================] - 232s 315ms/step - loss: 1.7919 - acc: 0.1627 - val_loss: 1.7918 - val_acc: 0.1664\n",
      "Epoch 5/20\n",
      "737/738 [============================>.] - ETA: 0s - loss: 1.7919 - acc: 0.1647Epoch 00005: loss did not improve\n",
      "738/738 [==============================] - 232s 315ms/step - loss: 1.7919 - acc: 0.1646 - val_loss: 1.7918 - val_acc: 0.1668\n",
      "Epoch 6/20\n",
      "737/738 [============================>.] - ETA: 0s - loss: 1.7918 - acc: 0.1638Epoch 00006: loss improved from 1.79186 to 1.79185, saving model to generator2_True_AlexNet-06-1.7918.h5\n",
      "738/738 [==============================] - 232s 315ms/step - loss: 1.7918 - acc: 0.1638 - val_loss: 1.7918 - val_acc: 0.1668\n",
      "Epoch 7/20\n",
      "737/738 [============================>.] - ETA: 0s - loss: 1.7919 - acc: 0.1632Epoch 00007: loss did not improve\n",
      "738/738 [==============================] - 233s 315ms/step - loss: 1.7919 - acc: 0.1631 - val_loss: 1.7918 - val_acc: 0.1666\n",
      "Epoch 8/20\n",
      "737/738 [============================>.] - ETA: 0s - loss: 1.7919 - acc: 0.1648Epoch 00008: loss did not improve\n",
      "738/738 [==============================] - 231s 313ms/step - loss: 1.7919 - acc: 0.1648 - val_loss: 1.7918 - val_acc: 0.1665\n",
      "Epoch 9/20\n",
      "737/738 [============================>.] - ETA: 0s - loss: 1.7919 - acc: 0.1648Epoch 00009: loss did not improve\n",
      "738/738 [==============================] - 232s 314ms/step - loss: 1.7919 - acc: 0.1647 - val_loss: 1.7918 - val_acc: 0.1669\n",
      "Epoch 10/20\n",
      "737/738 [============================>.] - ETA: 0s - loss: 1.7919 - acc: 0.1650Epoch 00010: loss did not improve\n",
      "738/738 [==============================] - 232s 315ms/step - loss: 1.7919 - acc: 0.1651 - val_loss: 1.7918 - val_acc: 0.1665\n",
      "Epoch 11/20\n",
      "737/738 [============================>.] - ETA: 0s - loss: 1.7919 - acc: 0.1645Epoch 00011: loss did not improve\n",
      "738/738 [==============================] - 232s 314ms/step - loss: 1.7919 - acc: 0.1645 - val_loss: 1.7918 - val_acc: 0.1664\n",
      "Epoch 12/20\n",
      "737/738 [============================>.] - ETA: 0s - loss: 1.7919 - acc: 0.1647Epoch 00012: loss did not improve\n",
      "738/738 [==============================] - 233s 316ms/step - loss: 1.7919 - acc: 0.1647 - val_loss: 1.7918 - val_acc: 0.1669\n",
      "Epoch 13/20\n",
      "737/738 [============================>.] - ETA: 0s - loss: 1.7919 - acc: 0.1660Epoch 00013: loss did not improve\n",
      "738/738 [==============================] - 232s 314ms/step - loss: 1.7919 - acc: 0.1661 - val_loss: 1.7918 - val_acc: 0.1668\n",
      "Epoch 14/20\n",
      "737/738 [============================>.] - ETA: 0s - loss: 1.7919 - acc: 0.1659Epoch 00014: loss did not improve\n",
      "738/738 [==============================] - 233s 316ms/step - loss: 1.7919 - acc: 0.1660 - val_loss: 1.7918 - val_acc: 0.1668\n",
      "Epoch 15/20\n",
      "737/738 [============================>.] - ETA: 0s - loss: 1.7918 - acc: 0.1653Epoch 00015: loss improved from 1.79185 to 1.79184, saving model to generator2_True_AlexNet-15-1.7918.h5\n",
      "738/738 [==============================] - 232s 315ms/step - loss: 1.7918 - acc: 0.1654 - val_loss: 1.7918 - val_acc: 0.1669\n",
      "Epoch 16/20\n",
      "737/738 [============================>.] - ETA: 0s - loss: 1.7919 - acc: 0.1630Epoch 00016: loss did not improve\n",
      "738/738 [==============================] - 232s 314ms/step - loss: 1.7919 - acc: 0.1629 - val_loss: 1.7918 - val_acc: 0.1666\n",
      "Epoch 17/20\n",
      "737/738 [============================>.] - ETA: 0s - loss: 1.7919 - acc: 0.1655Epoch 00017: loss did not improve\n",
      "738/738 [==============================] - 232s 314ms/step - loss: 1.7919 - acc: 0.1656 - val_loss: 1.7918 - val_acc: 0.1665\n",
      "Epoch 18/20\n",
      "737/738 [============================>.] - ETA: 0s - loss: 1.7919 - acc: 0.1629Epoch 00018: loss did not improve\n",
      "738/738 [==============================] - 232s 315ms/step - loss: 1.7919 - acc: 0.1630 - val_loss: 1.7918 - val_acc: 0.1665\n",
      "Epoch 19/20\n",
      "737/738 [============================>.] - ETA: 0s - loss: 1.7919 - acc: 0.1637Epoch 00019: loss did not improve\n",
      "738/738 [==============================] - 231s 313ms/step - loss: 1.7919 - acc: 0.1638 - val_loss: 1.7918 - val_acc: 0.1669\n",
      "Epoch 20/20\n",
      "737/738 [============================>.] - ETA: 0s - loss: 1.7918 - acc: 0.1668Epoch 00020: loss did not improve\n",
      "738/738 [==============================] - 232s 314ms/step - loss: 1.7918 - acc: 0.1668 - val_loss: 1.7918 - val_acc: 0.1666\n"
     ]
    }
   ],
   "source": [
    "history = model.fit_generator(\n",
    "    train_generator,\n",
    "    steps_per_epoch=nb_train_samples // batch_size,\n",
    "    epochs=epochs,\n",
    "    verbose=1,\n",
    "    callbacks=callbacks_list,\n",
    "    shuffle=True,\n",
    "    validation_data=test_generator,\n",
    "    validation_steps=nb_test_samples // batch_size)"
   ]
  },
  {
   "cell_type": "code",
   "execution_count": null,
   "metadata": {},
   "outputs": [],
   "source": [
    "score = model.evaluate_generator(test_generator)\n",
    "print(\"Accuracy: %.2f%%\" % (score[1]*100))\n",
    "print('Test loss:', score[0])\n",
    "print('Test accuracy', score[1])"
   ]
  },
  {
   "cell_type": "code",
   "execution_count": null,
   "metadata": {},
   "outputs": [],
   "source": [
    "model_json = model.to_json()\n",
    "with open('generator2_True_AlexNet_model.json', 'w') as json_file:\n",
    "    json_file.write(model_json)\n",
    "    \n",
    "model.save_weights('generator2_True_AlexNet_weights.h5')\n",
    "print('Saved model weights')"
   ]
  },
  {
   "cell_type": "code",
   "execution_count": null,
   "metadata": {},
   "outputs": [],
   "source": [
    "#summarize for accuracy\n",
    "plt.plot(history.history['acc'])\n",
    "plt.plot(history.history['val_acc'])\n",
    "plt.title('model accuracy')\n",
    "plt.ylabel('accuracy')\n",
    "plt.xlabel('epoch')\n",
    "plt.legend(['train', 'test'], loc='upper left')\n",
    "plt.show()"
   ]
  },
  {
   "cell_type": "code",
   "execution_count": null,
   "metadata": {},
   "outputs": [],
   "source": [
    "#summarize for loss\n",
    "plt.plot(history.history['loss'])\n",
    "plt.plot(history.history['val_loss'])\n",
    "plt.title('model loss')\n",
    "plt.ylabel('loss')\n",
    "plt.xlabel('epoch')\n",
    "plt.legend(['train', 'test'], loc='upper left')\n",
    "plt.show()"
   ]
  },
  {
   "cell_type": "code",
   "execution_count": null,
   "metadata": {},
   "outputs": [],
   "source": []
  }
 ],
 "metadata": {
  "kernelspec": {
   "display_name": "Python 3",
   "language": "python",
   "name": "python3"
  },
  "language_info": {
   "codemirror_mode": {
    "name": "ipython",
    "version": 3
   },
   "file_extension": ".py",
   "mimetype": "text/x-python",
   "name": "python",
   "nbconvert_exporter": "python",
   "pygments_lexer": "ipython3",
   "version": "3.5.2"
  }
 },
 "nbformat": 4,
 "nbformat_minor": 2
}
