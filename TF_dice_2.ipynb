{
 "cells": [
  {
   "cell_type": "code",
   "execution_count": null,
   "metadata": {},
   "outputs": [],
   "source": [
    "import tensorflow as tf\n",
    "import numpy as np\n",
    "import matplotlib\n",
    "import matplotlib.pyplot as plt\n",
    "import os\n",
    "from sklearn.utils import shuffle\n",
    "from sklearn.cross_validation import train_test_split\n",
    "from numpy.testing import assert_equal\n",
    "from PIL import Image\n",
    "%matplotlib inline"
   ]
  },
  {
   "cell_type": "code",
   "execution_count": null,
   "metadata": {},
   "outputs": [],
   "source": [
    "#load data\n",
    "path = '/Users/oziomek/licencjat/kostki/zdjecia/'\n",
    "listing = os.listdir(path)\n",
    "print(listing)\n",
    "num_samples = 0\n",
    "for folder in os.listdir(path):\n",
    "    for i in range(1, 7):\n",
    "        num_samples += len(os.listdir(path + folder + '/' + str(i)))\n",
    "assert_equal(100800, num_samples)\n",
    "print(num_samples)\n",
    "\n",
    "data = np.array(\n",
    "    [np.array(Image.open(path + folder + '/' + str(i) + '/' + file)).flatten() \n",
    "         for folder in os.listdir(path)\n",
    "             for i in range(1, 7) \n",
    "                 for file in os.listdir(path + folder + '/' + str(i))], 'f')\n",
    "print(data.shape)"
   ]
  },
  {
   "cell_type": "code",
   "execution_count": null,
   "metadata": {},
   "outputs": [],
   "source": [
    "labels = np.ones((num_samples, ), dtype=int)\n",
    "counter = 0\n",
    "for folder in os.listdir(path):\n",
    "    for i in range(1, 7):\n",
    "        samples = len(os.listdir(path + folder + '/' + str(i)))\n",
    "        labels[counter:counter+samples] = i-1\n",
    "        counter += samples\n",
    "            \n",
    "rows, cols = 64, 64\n",
    "labels_values = 6\n",
    "train_data = [data, labels]\n",
    "import random\n",
    "for i in range(3):\n",
    "    random_image = random.randint(0, 100800)\n",
    "    img=data[random_image].reshape(rows, cols)\n",
    "    plt.imshow(img)\n",
    "    plt.show()\n",
    "    print(\"There are {} dots, number is {}\".format(labels[random_image] + 1, random_image))"
   ]
  },
  {
   "cell_type": "code",
   "execution_count": null,
   "metadata": {},
   "outputs": [],
   "source": [
    "(X, y) = (train_data[0], train_data[1])\n",
    "X_train, X_test, y_train, y_test = train_test_split(X, y, test_size=0.2, random_state=8)\n",
    "\n",
    "print('Images:\\n', X_train.shape, '\\n', X_test.shape)\n",
    "print('Labels:\\n', y_train.shape, '\\n', y_test.shape)\n",
    "\n",
    "# X_train = X_train.reshape(X_train.shape[0], rows, cols, 1).astype('float32')\n",
    "# X_test = X_test.reshape(X_test.shape[0], rows, cols, 1).astype('float32')\n",
    "\n",
    "# normalize to 0-1\n",
    "X_train /= 255\n",
    "X_test /= 255\n",
    "\n",
    "print('Images:\\n', X_train.shape, '\\n', X_test.shape)\n",
    "\n",
    "y_train = tf.one_hot(y_train, 6)\n",
    "y_test = tf.one_hot(y_test, 6)\n",
    "print('Labels:\\n', y_train.shape, '\\n', y_test.shape)\n"
   ]
  },
  {
   "cell_type": "code",
   "execution_count": null,
   "metadata": {},
   "outputs": [],
   "source": [
    "def weight_variable(shape):\n",
    "    init = tf.random_normal(shape, stddev=0.2)\n",
    "    return tf.Variable(init)\n",
    "\n",
    "def conv2d(x, W):\n",
    "    return tf.nn.conv2d(x, W, strides=[1,1,1,1], padding='SAME')\n",
    "\n",
    "def max_pooling(x):\n",
    "    return tf.nn.max_pool(x, ksize=[1,2,2,1], strides=[1,2,2,1], padding='SAME')"
   ]
  },
  {
   "cell_type": "code",
   "execution_count": null,
   "metadata": {},
   "outputs": [],
   "source": [
    "x = tf.placeholder(tf.float32, [None, 4096])\n",
    "y = tf.placeholder(tf.float32, [None, 6])\n",
    "\n",
    "x_image = tf.reshape(x, [-1, 64, 64, 1])"
   ]
  },
  {
   "cell_type": "code",
   "execution_count": null,
   "metadata": {},
   "outputs": [],
   "source": [
    "W_conv1 = weight_variable([5, 5, 1, 32])\n",
    "\n",
    "b_conv1 = weight_variable([32])"
   ]
  },
  {
   "cell_type": "code",
   "execution_count": null,
   "metadata": {},
   "outputs": [],
   "source": [
    "h_conv1 = tf.nn.relu(conv2d(x_image, W_conv1) + b_conv1) # [batch_size, 64, 64, 32]\n",
    "\n",
    "h_pool1 = max_pooling(h_conv1) # [batch_size, 32, 32, 32]"
   ]
  },
  {
   "cell_type": "code",
   "execution_count": null,
   "metadata": {},
   "outputs": [],
   "source": [
    "W_conv2 = weight_variable([5, 5, 32, 64])\n",
    "\n",
    "b_conv2 = weight_variable([64])"
   ]
  },
  {
   "cell_type": "code",
   "execution_count": null,
   "metadata": {},
   "outputs": [],
   "source": [
    "h_conv2 = tf.nn.relu(conv2d(h_pool1, W_conv2) + b_conv2) # [batch_size, 32, 32, 64]\n",
    "\n",
    "h_pool2 = max_pooling(h_conv2) #[batch_size, 16, 16, 64]"
   ]
  },
  {
   "cell_type": "code",
   "execution_count": null,
   "metadata": {},
   "outputs": [],
   "source": [
    "keep_prob = tf.placeholder(tf.float32)\n",
    "\n",
    "h_drop1 = tf.nn.dropout(h_pool2, keep_prob)"
   ]
  },
  {
   "cell_type": "code",
   "execution_count": null,
   "metadata": {},
   "outputs": [],
   "source": [
    "W_fconn1 = weight_variable([16*16*64, 1024])\n",
    "\n",
    "b_fconn1 = weight_variable([1024])\n",
    "\n",
    "h_flat = tf.reshape(h_drop1, [-1, 16*16*64])"
   ]
  },
  {
   "cell_type": "code",
   "execution_count": null,
   "metadata": {},
   "outputs": [],
   "source": [
    "h_fconn1 = tf.nn.relu(tf.matmul(h_flat, W_fconn1) + b_fconn1)"
   ]
  },
  {
   "cell_type": "code",
   "execution_count": null,
   "metadata": {},
   "outputs": [],
   "source": [
    "h_drop_2 = tf.nn.dropout(h_fconn1, keep_prob)"
   ]
  },
  {
   "cell_type": "code",
   "execution_count": null,
   "metadata": {},
   "outputs": [],
   "source": [
    "W_fconn2 = weight_variable([1024, 256])\n",
    "\n",
    "b_fconn2 = weight_variable([256])"
   ]
  },
  {
   "cell_type": "code",
   "execution_count": null,
   "metadata": {},
   "outputs": [],
   "source": [
    "h_fconn2 = tf.nn.relu(tf.matmul(h_drop_2, W_fconn2) + b_fconn2)"
   ]
  },
  {
   "cell_type": "code",
   "execution_count": null,
   "metadata": {},
   "outputs": [],
   "source": [
    "h_drop_3 = tf.nn.dropout(h_fconn2, keep_prob)"
   ]
  },
  {
   "cell_type": "code",
   "execution_count": null,
   "metadata": {},
   "outputs": [],
   "source": [
    "W_fconn3 = weight_variable([256, 64])\n",
    "\n",
    "b_fconn3 = weight_variable([64])"
   ]
  },
  {
   "cell_type": "code",
   "execution_count": null,
   "metadata": {},
   "outputs": [],
   "source": [
    "h_fconn3 = tf.nn.relu(tf.matmul(h_drop_3, W_fconn3) + b_fconn3)"
   ]
  },
  {
   "cell_type": "code",
   "execution_count": null,
   "metadata": {},
   "outputs": [],
   "source": [
    "W_fconn4 = weight_variable([64, 6])\n",
    "\n",
    "b_fconn4 = weight_variable([6])"
   ]
  },
  {
   "cell_type": "code",
   "execution_count": null,
   "metadata": {},
   "outputs": [],
   "source": [
    "y_conv = tf.matmul(h_fconn3, W_fconn4) + b_fconn4 "
   ]
  },
  {
   "cell_type": "code",
   "execution_count": null,
   "metadata": {},
   "outputs": [],
   "source": [
    "cross_entropy = tf.nn.softmax_cross_entropy_with_logits(labels=y, logits=y_conv)\n",
    "\n",
    "cross_entropy = tf.reduce_mean(cross_entropy)"
   ]
  },
  {
   "cell_type": "code",
   "execution_count": null,
   "metadata": {},
   "outputs": [],
   "source": [
    "train_step = tf.train.AdamOptimizer(learning_rate=0.001).minimize(cross_entropy)"
   ]
  },
  {
   "cell_type": "code",
   "execution_count": null,
   "metadata": {},
   "outputs": [],
   "source": [
    "correct_prediction = tf.equal(tf.argmax(y_conv, 1), tf.argmax(y, 1))\n",
    "\n",
    "correct_prediction = tf.cast(correct_prediction, tf.float32)\n",
    "\n",
    "accuracy = tf.reduce_mean(correct_prediction)"
   ]
  },
  {
   "cell_type": "code",
   "execution_count": null,
   "metadata": {},
   "outputs": [],
   "source": [
    "def next_batch(num, data, labels):\n",
    "    '''\n",
    "    Return a total of `num` random samples and labels. \n",
    "    '''\n",
    "    idx = np.arange(0 , len(data))\n",
    "    np.random.shuffle(idx)\n",
    "    idx = idx[:num]\n",
    "    data_shuffle = [data[ i] for i in idx]\n",
    "    labels_shuffle = [labels[ i] for i in idx]\n",
    "\n",
    "    return np.asarray(data_shuffle), np.asarray(labels_shuffle)"
   ]
  },
  {
   "cell_type": "code",
   "execution_count": null,
   "metadata": {},
   "outputs": [],
   "source": [
    "with tf.Session() as sess:\n",
    "    sess.run(tf.global_variables_initializer())\n",
    "    for i in range(20000):\n",
    "        X_batch, y_batch = next_batch(256, X_train, y_train)\n",
    "        \n",
    "        train_step.run(feed_dict={\n",
    "            x: X_batch, \n",
    "            y: y_batch, \n",
    "            keep_prob: 0.2})\n",
    "        \n",
    "        if i % 10 == 0:\n",
    "            validation_accuracy = accuracy.eval(feed_dict={\n",
    "                x: X_test, \n",
    "                y: y_test, \n",
    "                keep_prob: 1.0})\n",
    "            print('Step {}, accuracy: {}'.format(i, round(validation_accuracy,3)))\n",
    "            \n",
    "    print('test accuracy: {}'.format(round(accuracy.eval(feed_dict={\n",
    "        x: X_test, \n",
    "        y: y_test, \n",
    "        keep_prob: 1.0}),3)))"
   ]
  },
  {
   "cell_type": "code",
   "execution_count": null,
   "metadata": {},
   "outputs": [],
   "source": []
  }
 ],
 "metadata": {
  "kernelspec": {
   "display_name": "Python 3",
   "language": "python",
   "name": "python3"
  },
  "language_info": {
   "codemirror_mode": {
    "name": "ipython",
    "version": 3
   },
   "file_extension": ".py",
   "mimetype": "text/x-python",
   "name": "python",
   "nbconvert_exporter": "python",
   "pygments_lexer": "ipython3",
   "version": "3.6.4"
  }
 },
 "nbformat": 4,
 "nbformat_minor": 2
}
