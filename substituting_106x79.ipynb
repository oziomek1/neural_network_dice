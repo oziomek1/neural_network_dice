{
 "cells": [
  {
   "cell_type": "markdown",
   "metadata": {},
   "source": [
    "## Substitution with smaller Conv-s and ZeroPadding\n",
    "Substitution presented here is very well described under this link:\n",
    "\n",
    "[https://leonardoaraujosantos.gitbooks.io/artificial-inteligence/content/convolutional_neural_networks.html](https://leonardoaraujosantos.gitbooks.io/artificial-inteligence/content/convolutional_neural_networks.html)\n",
    "\n",
    "Each image 160x120x1"
   ]
  },
  {
   "cell_type": "code",
   "execution_count": 2,
   "metadata": {},
   "outputs": [
    {
     "data": {
      "text/plain": [
       "[name: \"/cpu:0\"\n",
       " device_type: \"CPU\"\n",
       " memory_limit: 268435456\n",
       " locality {\n",
       " }\n",
       " incarnation: 13129036302223186526]"
      ]
     },
     "execution_count": 2,
     "metadata": {},
     "output_type": "execute_result"
    }
   ],
   "source": [
    "import tensorflow as tf\n",
    "from tensorflow.python.client import device_lib\n",
    "sess = tf.Session(config=tf.ConfigProto(log_device_placement=True))\n",
    "device_lib.list_local_devices()"
   ]
  },
  {
   "cell_type": "code",
   "execution_count": 3,
   "metadata": {},
   "outputs": [
    {
     "name": "stderr",
     "output_type": "stream",
     "text": [
      "Using TensorFlow backend.\n"
     ]
    }
   ],
   "source": [
    "import numpy as np\n",
    "from keras.preprocessing.image import ImageDataGenerator\n",
    "from keras.models import Sequential\n",
    "from keras.layers import Conv2D, MaxPooling2D, ZeroPadding2D\n",
    "from keras.layers import Activation, Dropout, Flatten, Dense\n",
    "from keras.callbacks import ModelCheckpoint\n",
    "from keras.utils.vis_utils import plot_model\n",
    "from sklearn.utils import shuffle\n",
    "from keras import backend as K\n",
    "import matplotlib.pyplot as plt"
   ]
  },
  {
   "cell_type": "code",
   "execution_count": 4,
   "metadata": {},
   "outputs": [],
   "source": [
    "width, height = 106, 79\n",
    "train_data_dir = '../kostki/gen_x3_3/train'\n",
    "test_data_dir = '../kostki/gen_x3_3/test'\n",
    "nb_train_samples = 47232\n",
    "nb_test_samples = 11808\n",
    "epochs = 20\n",
    "batch_size = 256\n",
    "\n",
    "input_shape = (width, height, 1)"
   ]
  },
  {
   "cell_type": "code",
   "execution_count": 5,
   "metadata": {},
   "outputs": [],
   "source": [
    "model = Sequential()\n",
    "model.add(ZeroPadding2D(padding=(4, 4), name='zeropad1', input_shape=input_shape))\n",
    "model.add(Conv2D(32, (9, 9), strides=(2, 2), padding='same', name='conv1', activation='relu'))\n",
    "model.add(MaxPooling2D(pool_size=(2, 2), strides=(2, 2), padding='same', name='maxpool1'))\n",
    "\n",
    "# same as:\n",
    "# ZeroPadding2D(padding(4, 4))\n",
    "# Conv2D(64, kernel_size(9, 9), strides=(1, 1), padding='same)\n",
    "model.add(ZeroPadding2D(padding=(1, 1), name='block1zeropad1'))\n",
    "model.add(Conv2D(64, kernel_size=(3, 3), strides=(1, 1), padding='same', name='block1_conv1', activation='relu'))\n",
    "model.add(ZeroPadding2D(padding=(1, 1), name='block1zeropad2'))\n",
    "model.add(Conv2D(64, kernel_size=(3, 3), strides=(1, 1), padding='same', name='block1_conv2', activation='relu'))\n",
    "model.add(ZeroPadding2D(padding=(1, 1), name='block1zeropad3'))\n",
    "model.add(Conv2D(64, kernel_size=(3, 3), strides=(1, 1), padding='same', name='block1_conv3', activation='relu'))\n",
    "model.add(ZeroPadding2D(padding=(1, 1), name='block1zeropad4'))\n",
    "model.add(Conv2D(64, kernel_size=(3, 3), strides=(1, 1), padding='same', name='block1_conv4', activation='relu'))\n",
    "model.add(MaxPooling2D(pool_size=(2, 2), strides=(2, 2), padding='same', name='maxpool2'))\n",
    "\n",
    "# same as:\n",
    "# ZeroPadding2D(padding(1, 1))\n",
    "# model.add(Conv2D(128, kernel_size=(3, 3), strides=(1, 1), padding='same', activation='relu'))\n",
    "model.add(Conv2D(64, kernel_size=(1, 1), strides=(1, 1), padding='same', name='block2_conv1', activation='relu'))\n",
    "model.add(ZeroPadding2D(padding=(1, 1), name='block2zeropad2'))\n",
    "model.add(Conv2D(64, kernel_size=(3, 3), strides=(1, 1), padding='valid', name='block2_conv2', activation='relu'))\n",
    "model.add(Conv2D(128, kernel_size=(1, 1), strides=(1, 1), padding='same', name='block2_conv3', activation='relu'))\n",
    "\n",
    "# same as:\n",
    "# ZeroPadding2D(padding(1, 1))\n",
    "# model.add(Conv2D(128, kernel_size=(3, 3), strides=(1, 1), padding='same', activation='relu'))\n",
    "model.add(Conv2D(64, kernel_size=(1, 1), strides=(1, 1), padding='same', name='block3_conv1', activation='relu'))\n",
    "model.add(ZeroPadding2D(padding=(1, 1), name='block3zeropad1'))\n",
    "model.add(Conv2D(64, kernel_size=(3, 3), strides=(1, 1), padding='valid', name='block3_conv2', activation='relu'))\n",
    "model.add(Conv2D(128, kernel_size=(1, 1), strides=(1, 1), padding='same', name='block3_conv3', activation='relu'))\n",
    "model.add(MaxPooling2D(pool_size=(2, 2), strides=(2, 2), padding='same', name='maxpool3'))\n",
    "\n",
    "model.add(Conv2D(128, kernel_size=(4, 4), strides=(3, 3), padding='same', activation='relu'))\n",
    "model.add(Flatten())\n",
    "\n",
    "model.add(Dense(1024, activation='relu'))\n",
    "model.add(Dropout(0.5))\n",
    "model.add(Dense(256, activation='relu'))\n",
    "model.add(Dense(6, activation='softmax'))"
   ]
  },
  {
   "cell_type": "code",
   "execution_count": 6,
   "metadata": {},
   "outputs": [],
   "source": [
    "model.compile(loss='categorical_crossentropy',\n",
    "              optimizer='adam',\n",
    "              metrics=['accuracy'])"
   ]
  },
  {
   "cell_type": "code",
   "execution_count": 7,
   "metadata": {},
   "outputs": [
    {
     "name": "stdout",
     "output_type": "stream",
     "text": [
      "_________________________________________________________________\n",
      "Layer (type)                 Output Shape              Param #   \n",
      "=================================================================\n",
      "zeropad1 (ZeroPadding2D)     (None, 114, 87, 1)        0         \n",
      "_________________________________________________________________\n",
      "conv1 (Conv2D)               (None, 57, 44, 32)        2624      \n",
      "_________________________________________________________________\n",
      "maxpool1 (MaxPooling2D)      (None, 29, 22, 32)        0         \n",
      "_________________________________________________________________\n",
      "block1zeropad1 (ZeroPadding2 (None, 31, 24, 32)        0         \n",
      "_________________________________________________________________\n",
      "block1_conv1 (Conv2D)        (None, 31, 24, 64)        18496     \n",
      "_________________________________________________________________\n",
      "block1zeropad2 (ZeroPadding2 (None, 33, 26, 64)        0         \n",
      "_________________________________________________________________\n",
      "block1_conv2 (Conv2D)        (None, 33, 26, 64)        36928     \n",
      "_________________________________________________________________\n",
      "block1zeropad3 (ZeroPadding2 (None, 35, 28, 64)        0         \n",
      "_________________________________________________________________\n",
      "block1_conv3 (Conv2D)        (None, 35, 28, 64)        36928     \n",
      "_________________________________________________________________\n",
      "block1zeropad4 (ZeroPadding2 (None, 37, 30, 64)        0         \n",
      "_________________________________________________________________\n",
      "block1_conv4 (Conv2D)        (None, 37, 30, 64)        36928     \n",
      "_________________________________________________________________\n",
      "maxpool2 (MaxPooling2D)      (None, 19, 15, 64)        0         \n",
      "_________________________________________________________________\n",
      "block2_conv1 (Conv2D)        (None, 19, 15, 64)        4160      \n",
      "_________________________________________________________________\n",
      "block2zeropad2 (ZeroPadding2 (None, 21, 17, 64)        0         \n",
      "_________________________________________________________________\n",
      "block2_conv2 (Conv2D)        (None, 19, 15, 64)        36928     \n",
      "_________________________________________________________________\n",
      "block2_conv3 (Conv2D)        (None, 19, 15, 128)       8320      \n",
      "_________________________________________________________________\n",
      "block3_conv1 (Conv2D)        (None, 19, 15, 64)        8256      \n",
      "_________________________________________________________________\n",
      "block3zeropad1 (ZeroPadding2 (None, 21, 17, 64)        0         \n",
      "_________________________________________________________________\n",
      "block3_conv2 (Conv2D)        (None, 19, 15, 64)        36928     \n",
      "_________________________________________________________________\n",
      "block3_conv3 (Conv2D)        (None, 19, 15, 128)       8320      \n",
      "_________________________________________________________________\n",
      "maxpool3 (MaxPooling2D)      (None, 10, 8, 128)        0         \n",
      "_________________________________________________________________\n",
      "conv2d_1 (Conv2D)            (None, 4, 3, 128)         262272    \n",
      "_________________________________________________________________\n",
      "flatten_1 (Flatten)          (None, 1536)              0         \n",
      "_________________________________________________________________\n",
      "dense_1 (Dense)              (None, 1024)              1573888   \n",
      "_________________________________________________________________\n",
      "dropout_1 (Dropout)          (None, 1024)              0         \n",
      "_________________________________________________________________\n",
      "dense_2 (Dense)              (None, 256)               262400    \n",
      "_________________________________________________________________\n",
      "dense_3 (Dense)              (None, 6)                 1542      \n",
      "=================================================================\n",
      "Total params: 2,334,918\n",
      "Trainable params: 2,334,918\n",
      "Non-trainable params: 0\n",
      "_________________________________________________________________\n",
      "None\n"
     ]
    }
   ],
   "source": [
    "# summarize model and apply checkpoints\n",
    "print(model.summary())\n",
    "filepath = 'substituting_160x120/substituting_160x120-{epoch:02d}-{loss:.4f}.h5'\n",
    "checkpoint = ModelCheckpoint(filepath, monitor='loss', verbose=1, save_best_only=True, mode='min')\n",
    "callbacks_list = [checkpoint]"
   ]
  },
  {
   "cell_type": "code",
   "execution_count": 8,
   "metadata": {},
   "outputs": [],
   "source": [
    "train_datagen = ImageDataGenerator(\n",
    "    rescale=1. / 255,\n",
    "    shear_range=0.20,\n",
    "    zoom_range=0.15,\n",
    "    fill_mode='nearest')\n",
    "test_datagen = ImageDataGenerator(rescale=1. / 255)"
   ]
  },
  {
   "cell_type": "code",
   "execution_count": 9,
   "metadata": {},
   "outputs": [
    {
     "name": "stdout",
     "output_type": "stream",
     "text": [
      "Found 47232 images belonging to 6 classes.\n",
      "Found 11808 images belonging to 6 classes.\n"
     ]
    }
   ],
   "source": [
    "train_generator = train_datagen.flow_from_directory(\n",
    "    train_data_dir,\n",
    "    target_size=(width, height),\n",
    "    batch_size=batch_size,\n",
    "    color_mode='grayscale',\n",
    "    class_mode='categorical',\n",
    "    classes=['1', '2', '3', '4', '5', '6'],\n",
    "    shuffle=True,\n",
    "    seed=2018)\n",
    "\n",
    "test_generator = test_datagen.flow_from_directory(\n",
    "    test_data_dir,\n",
    "    target_size=(width, height),\n",
    "    batch_size=batch_size,\n",
    "    color_mode='grayscale',\n",
    "    class_mode='categorical',\n",
    "    classes=['1', '2', '3', '4', '5', '6'],\n",
    "    shuffle=True,\n",
    "    seed=2018)"
   ]
  },
  {
   "cell_type": "code",
   "execution_count": null,
   "metadata": {},
   "outputs": [],
   "source": [
    "history = model.fit_generator(\n",
    "    train_generator,\n",
    "    steps_per_epoch=nb_train_samples // batch_size,\n",
    "    epochs=epochs,\n",
    "    verbose=1,\n",
    "    callbacks=callbacks_list,\n",
    "    shuffle=True,\n",
    "    validation_data=test_generator,\n",
    "    validation_steps=nb_test_samples // batch_size)"
   ]
  },
  {
   "cell_type": "code",
   "execution_count": 13,
   "metadata": {},
   "outputs": [
    {
     "name": "stdout",
     "output_type": "stream",
     "text": [
      "Accuracy: 16.67%\n",
      "Test loss: 1.7917757531814782\n",
      "Test accuracy 0.16666666666666666\n"
     ]
    }
   ],
   "source": [
    "score = model.evaluate_generator(test_generator)\n",
    "print(\"Accuracy: %.2f%%\" % (score[1]*100))\n",
    "print('Test loss:', score[0])\n",
    "print('Test accuracy', score[1])"
   ]
  },
  {
   "cell_type": "code",
   "execution_count": 14,
   "metadata": {},
   "outputs": [
    {
     "name": "stdout",
     "output_type": "stream",
     "text": [
      "Saved model weights\n"
     ]
    }
   ],
   "source": [
    "model_json = model.to_json()\n",
    "with open('substituting_160x120_model.json', 'w') as json_file:\n",
    "    json_file.write(model_json)\n",
    "    \n",
    "model.save_weights('substituting_160x120_weights.h5')\n",
    "print('Saved model weights')"
   ]
  },
  {
   "cell_type": "code",
   "execution_count": 15,
   "metadata": {},
   "outputs": [
    {
     "data": {
      "image/png": "[encoded data removed]",
      "text/plain": [
       "<matplotlib.figure.Figure at 0x7f2201c53240>"
      ]
     },
     "metadata": {},
     "output_type": "display_data"
    }
   ],
   "source": [
    "#summarize for accuracy\n",
    "plt.plot(history.history['acc'])\n",
    "plt.plot(history.history['val_acc'])\n",
    "plt.title('model accuracy')\n",
    "plt.ylabel('accuracy')\n",
    "plt.xlabel('epoch')\n",
    "plt.legend(['train', 'test'], loc='upper left')\n",
    "plt.show()"
   ]
  },
  {
   "cell_type": "code",
   "execution_count": 16,
   "metadata": {},
   "outputs": [
    {
     "data": {
      "image/png": "[encoded data removed]",
      "text/plain": [
       "<matplotlib.figure.Figure at 0x7f2201c83f28>"
      ]
     },
     "metadata": {},
     "output_type": "display_data"
    }
   ],
   "source": [
    "#summarize for loss\n",
    "plt.plot(history.history['loss'])\n",
    "plt.plot(history.history['val_loss'])\n",
    "plt.title('model loss')\n",
    "plt.ylabel('loss')\n",
    "plt.xlabel('epoch')\n",
    "plt.legend(['train', 'test'], loc='upper left')\n",
    "plt.show()"
   ]
  },
  {
   "cell_type": "code",
   "execution_count": null,
   "metadata": {},
   "outputs": [],
   "source": [
    "plot_model(model, to_file='substituting_160x120/substituting_160x120_plot.png', show_shapes=True, show_layer_names=True)"
   ]
  },
  {
   "cell_type": "code",
   "execution_count": null,
   "metadata": {},
   "outputs": [],
   "source": []
  }
 ],
 "metadata": {
  "kernelspec": {
   "display_name": "Python 3",
   "language": "python",
   "name": "python3"
  },
  "language_info": {
   "codemirror_mode": {
    "name": "ipython",
    "version": 3
   },
   "file_extension": ".py",
   "mimetype": "text/x-python",
   "name": "python",
   "nbconvert_exporter": "python",
   "pygments_lexer": "ipython3",
   "version": "3.6.4"
  }
 },
 "nbformat": 4,
 "nbformat_minor": 2
}
