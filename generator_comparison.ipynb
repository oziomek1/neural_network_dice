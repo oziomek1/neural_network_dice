{
 "cells": [
  {
   "cell_type": "markdown",
   "metadata": {},
   "source": [
    "## This notebook is made for comparison between dataset provided by loading the whole one into notebook vs the using a generator"
   ]
  },
  {
   "cell_type": "code",
   "execution_count": 1,
   "metadata": {},
   "outputs": [
    {
     "data": {
      "text/plain": [
       "[name: \"/device:CPU:0\"\n",
       " device_type: \"CPU\"\n",
       " memory_limit: 268435456\n",
       " locality {\n",
       " }\n",
       " incarnation: 11482694941060484880, name: \"/device:GPU:0\"\n",
       " device_type: \"GPU\"\n",
       " memory_limit: 356122624\n",
       " locality {\n",
       "   bus_id: 1\n",
       " }\n",
       " incarnation: 16073676007118189501\n",
       " physical_device_desc: \"device: 0, name: Tesla K80, pci bus id: 0000:00:1e.0, compute capability: 3.7\"]"
      ]
     },
     "execution_count": 1,
     "metadata": {},
     "output_type": "execute_result"
    }
   ],
   "source": [
    "import tensorflow as tf\n",
    "from tensorflow.python.client import device_lib\n",
    "sess = tf.Session(config=tf.ConfigProto(log_device_placement=True))\n",
    "device_lib.list_local_devices()"
   ]
  },
  {
   "cell_type": "code",
   "execution_count": 2,
   "metadata": {},
   "outputs": [
    {
     "name": "stderr",
     "output_type": "stream",
     "text": [
      "Using TensorFlow backend.\n"
     ]
    }
   ],
   "source": [
    "import numpy as np\n",
    "from keras.preprocessing.image import ImageDataGenerator\n",
    "from keras.models import Sequential\n",
    "from keras.layers import Conv2D, MaxPooling2D\n",
    "from keras.layers import Activation, Dropout, Flatten, Dense\n",
    "from keras.callbacks import ModelCheckpoint\n",
    "from keras.utils.vis_utils import plot_model\n",
    "from sklearn.utils import shuffle\n",
    "from keras import backend as K\n",
    "import matplotlib.pyplot as plt"
   ]
  },
  {
   "cell_type": "code",
   "execution_count": 3,
   "metadata": {},
   "outputs": [],
   "source": [
    "width, height = 64, 64\n",
    "train_data_dir = '../zdjecia_gen/train'\n",
    "test_data_dir = '../zdjecia_gen/test'\n",
    "nb_train_samples = 40320\n",
    "nb_test_samples = 10080\n",
    "epochs = 20\n",
    "batch_size = 64\n",
    "\n",
    "input_shape = (width, height, 3)"
   ]
  },
  {
   "cell_type": "code",
   "execution_count": 4,
   "metadata": {},
   "outputs": [
    {
     "name": "stdout",
     "output_type": "stream",
     "text": [
      "WARNING:tensorflow:From /usr/local/lib/python3.5/dist-packages/keras/backend/tensorflow_backend.py:1264: calling reduce_prod (from tensorflow.python.ops.math_ops) with keep_dims is deprecated and will be removed in a future version.\n",
      "Instructions for updating:\n",
      "keep_dims is deprecated, use keepdims instead\n"
     ]
    }
   ],
   "source": [
    "model = Sequential()\n",
    "model.add(Conv2D(32, (5, 5), input_shape=input_shape))\n",
    "model.add(Activation('relu'))\n",
    "model.add(MaxPooling2D(pool_size=(2, 2)))\n",
    "\n",
    "model.add(Conv2D(32, (3, 3)))\n",
    "model.add(Activation('relu'))\n",
    "model.add(MaxPooling2D(pool_size=(2, 2)))\n",
    "\n",
    "model.add(Conv2D(64, (3, 3)))\n",
    "model.add(Activation('relu'))\n",
    "model.add(MaxPooling2D(pool_size=(2, 2)))\n",
    "\n",
    "model.add(Flatten())\n",
    "model.add(Dense(1024))\n",
    "model.add(Activation('relu'))\n",
    "model.add(Dropout(0.5))\n",
    "model.add(Dense(64))\n",
    "model.add(Activation('relu'))\n",
    "model.add(Dense(6, activation='softmax'))"
   ]
  },
  {
   "cell_type": "code",
   "execution_count": 5,
   "metadata": {},
   "outputs": [
    {
     "name": "stdout",
     "output_type": "stream",
     "text": [
      "WARNING:tensorflow:From /usr/local/lib/python3.5/dist-packages/keras/backend/tensorflow_backend.py:2885: calling reduce_sum (from tensorflow.python.ops.math_ops) with keep_dims is deprecated and will be removed in a future version.\n",
      "Instructions for updating:\n",
      "keep_dims is deprecated, use keepdims instead\n",
      "WARNING:tensorflow:From /usr/local/lib/python3.5/dist-packages/keras/backend/tensorflow_backend.py:1349: calling reduce_mean (from tensorflow.python.ops.math_ops) with keep_dims is deprecated and will be removed in a future version.\n",
      "Instructions for updating:\n",
      "keep_dims is deprecated, use keepdims instead\n"
     ]
    }
   ],
   "source": [
    "model.compile(loss='categorical_crossentropy',\n",
    "              optimizer='adam',\n",
    "              metrics=['accuracy'])"
   ]
  },
  {
   "cell_type": "code",
   "execution_count": 6,
   "metadata": {},
   "outputs": [
    {
     "name": "stdout",
     "output_type": "stream",
     "text": [
      "_________________________________________________________________\n",
      "Layer (type)                 Output Shape              Param #   \n",
      "=================================================================\n",
      "conv2d_1 (Conv2D)            (None, 60, 60, 32)        2432      \n",
      "_________________________________________________________________\n",
      "activation_1 (Activation)    (None, 60, 60, 32)        0         \n",
      "_________________________________________________________________\n",
      "max_pooling2d_1 (MaxPooling2 (None, 30, 30, 32)        0         \n",
      "_________________________________________________________________\n",
      "conv2d_2 (Conv2D)            (None, 28, 28, 32)        9248      \n",
      "_________________________________________________________________\n",
      "activation_2 (Activation)    (None, 28, 28, 32)        0         \n",
      "_________________________________________________________________\n",
      "max_pooling2d_2 (MaxPooling2 (None, 14, 14, 32)        0         \n",
      "_________________________________________________________________\n",
      "conv2d_3 (Conv2D)            (None, 12, 12, 64)        18496     \n",
      "_________________________________________________________________\n",
      "activation_3 (Activation)    (None, 12, 12, 64)        0         \n",
      "_________________________________________________________________\n",
      "max_pooling2d_3 (MaxPooling2 (None, 6, 6, 64)          0         \n",
      "_________________________________________________________________\n",
      "flatten_1 (Flatten)          (None, 2304)              0         \n",
      "_________________________________________________________________\n",
      "dense_1 (Dense)              (None, 1024)              2360320   \n",
      "_________________________________________________________________\n",
      "activation_4 (Activation)    (None, 1024)              0         \n",
      "_________________________________________________________________\n",
      "dropout_1 (Dropout)          (None, 1024)              0         \n",
      "_________________________________________________________________\n",
      "dense_2 (Dense)              (None, 64)                65600     \n",
      "_________________________________________________________________\n",
      "activation_5 (Activation)    (None, 64)                0         \n",
      "_________________________________________________________________\n",
      "dense_3 (Dense)              (None, 6)                 390       \n",
      "=================================================================\n",
      "Total params: 2,456,486\n",
      "Trainable params: 2,456,486\n",
      "Non-trainable params: 0\n",
      "_________________________________________________________________\n",
      "None\n"
     ]
    }
   ],
   "source": [
    "# summarize model and apply checkpoints\n",
    "print(model.summary())\n",
    "filepath = 'generator_comparison/comparison-{epoch:02d}-{loss:.4f}.h5'\n",
    "checkpoint = ModelCheckpoint(filepath, monitor='loss', verbose=1, save_best_only=True, mode='min')\n",
    "callbacks_list = [checkpoint]"
   ]
  },
  {
   "cell_type": "code",
   "execution_count": 7,
   "metadata": {},
   "outputs": [],
   "source": [
    "train_datagen = ImageDataGenerator(\n",
    "    rescale=1. / 255)\n",
    "test_datagen = ImageDataGenerator(rescale=1. / 255)"
   ]
  },
  {
   "cell_type": "code",
   "execution_count": 8,
   "metadata": {},
   "outputs": [
    {
     "name": "stdout",
     "output_type": "stream",
     "text": [
      "Found 40320 images belonging to 6 classes.\n",
      "Found 10080 images belonging to 6 classes.\n"
     ]
    }
   ],
   "source": [
    "train_generator = train_datagen.flow_from_directory(\n",
    "    train_data_dir,\n",
    "    target_size=(width, height),\n",
    "    color_mode='rgb',\n",
    "    batch_size=batch_size,\n",
    "    class_mode='categorical',\n",
    "    classes=['1', '2', '3', '4', '5', '6'],\n",
    "    shuffle=True,\n",
    "    seed=2018)\n",
    "\n",
    "test_generator = test_datagen.flow_from_directory(\n",
    "    test_data_dir,\n",
    "    target_size=(width, height),\n",
    "    color_mode='rgb',\n",
    "    batch_size=batch_size,\n",
    "    class_mode='categorical',\n",
    "    classes=['1', '2', '3', '4', '5', '6'],\n",
    "    shuffle=True,\n",
    "    seed=2018)"
   ]
  },
  {
   "cell_type": "code",
   "execution_count": 9,
   "metadata": {},
   "outputs": [
    {
     "name": "stdout",
     "output_type": "stream",
     "text": [
      "Epoch 1/20\n",
      "629/630 [============================>.] - ETA: 0s - loss: 1.2184 - acc: 0.4623Epoch 00001: loss improved from inf to 1.21773, saving model to generator_comparison/comparison-01-1.2177.h5\n",
      "630/630 [==============================] - 19s 30ms/step - loss: 1.2177 - acc: 0.4625 - val_loss: 0.5454 - val_acc: 0.7941\n",
      "Epoch 2/20\n",
      "627/630 [============================>.] - ETA: 0s - loss: 0.4016 - acc: 0.8413Epoch 00002: loss improved from 1.21773 to 0.40077, saving model to generator_comparison/comparison-02-0.4008.h5\n",
      "630/630 [==============================] - 18s 28ms/step - loss: 0.4008 - acc: 0.8417 - val_loss: 0.2348 - val_acc: 0.9092\n",
      "Epoch 3/20\n",
      "627/630 [============================>.] - ETA: 0s - loss: 0.2031 - acc: 0.9200Epoch 00003: loss improved from 0.40077 to 0.20335, saving model to generator_comparison/comparison-03-0.2033.h5\n",
      "630/630 [==============================] - 18s 28ms/step - loss: 0.2033 - acc: 0.9198 - val_loss: 0.1231 - val_acc: 0.9517\n",
      "Epoch 4/20\n",
      "629/630 [============================>.] - ETA: 0s - loss: 0.1297 - acc: 0.9507Epoch 00004: loss improved from 0.20335 to 0.12965, saving model to generator_comparison/comparison-04-0.1297.h5\n",
      "630/630 [==============================] - 18s 29ms/step - loss: 0.1297 - acc: 0.9508 - val_loss: 0.0886 - val_acc: 0.9661\n",
      "Epoch 5/20\n",
      "628/630 [============================>.] - ETA: 0s - loss: 0.0903 - acc: 0.9661Epoch 00005: loss improved from 0.12965 to 0.09025, saving model to generator_comparison/comparison-05-0.0902.h5\n",
      "630/630 [==============================] - 18s 29ms/step - loss: 0.0902 - acc: 0.9661 - val_loss: 0.0753 - val_acc: 0.9710\n",
      "Epoch 6/20\n",
      "628/630 [============================>.] - ETA: 0s - loss: 0.0643 - acc: 0.9771Epoch 00006: loss improved from 0.09025 to 0.06438, saving model to generator_comparison/comparison-06-0.0644.h5\n",
      "630/630 [==============================] - 18s 28ms/step - loss: 0.0644 - acc: 0.9771 - val_loss: 0.0543 - val_acc: 0.9796\n",
      "Epoch 7/20\n",
      "629/630 [============================>.] - ETA: 0s - loss: 0.0576 - acc: 0.9799Epoch 00007: loss improved from 0.06438 to 0.05770, saving model to generator_comparison/comparison-07-0.0577.h5\n",
      "630/630 [==============================] - 18s 29ms/step - loss: 0.0577 - acc: 0.9799 - val_loss: 0.0770 - val_acc: 0.9701\n",
      "Epoch 8/20\n",
      "628/630 [============================>.] - ETA: 0s - loss: 0.0444 - acc: 0.9848Epoch 00008: loss improved from 0.05770 to 0.04427, saving model to generator_comparison/comparison-08-0.0443.h5\n",
      "630/630 [==============================] - 18s 28ms/step - loss: 0.0443 - acc: 0.9849 - val_loss: 0.0541 - val_acc: 0.9813\n",
      "Epoch 9/20\n",
      "628/630 [============================>.] - ETA: 0s - loss: 0.0365 - acc: 0.9877Epoch 00009: loss improved from 0.04427 to 0.03659, saving model to generator_comparison/comparison-09-0.0366.h5\n",
      "630/630 [==============================] - 18s 29ms/step - loss: 0.0366 - acc: 0.9876 - val_loss: 0.0691 - val_acc: 0.9758\n",
      "Epoch 10/20\n",
      "629/630 [============================>.] - ETA: 0s - loss: 0.0407 - acc: 0.9863Epoch 00010: loss did not improve\n",
      "630/630 [==============================] - 18s 28ms/step - loss: 0.0406 - acc: 0.9864 - val_loss: 0.0439 - val_acc: 0.9853\n",
      "Epoch 11/20\n",
      "627/630 [============================>.] - ETA: 0s - loss: 0.0315 - acc: 0.9903Epoch 00011: loss improved from 0.03659 to 0.03138, saving model to generator_comparison/comparison-11-0.0314.h5\n",
      "630/630 [==============================] - 18s 29ms/step - loss: 0.0314 - acc: 0.9903 - val_loss: 0.0327 - val_acc: 0.9882\n",
      "Epoch 12/20\n",
      "628/630 [============================>.] - ETA: 0s - loss: 0.0231 - acc: 0.9926Epoch 00012: loss improved from 0.03138 to 0.02319, saving model to generator_comparison/comparison-12-0.0232.h5\n",
      "630/630 [==============================] - 18s 29ms/step - loss: 0.0232 - acc: 0.9926 - val_loss: 0.0461 - val_acc: 0.9845\n",
      "Epoch 13/20\n",
      "628/630 [============================>.] - ETA: 0s - loss: 0.0346 - acc: 0.9894Epoch 00013: loss did not improve\n",
      "630/630 [==============================] - 18s 29ms/step - loss: 0.0345 - acc: 0.9894 - val_loss: 0.0541 - val_acc: 0.9823\n",
      "Epoch 14/20\n",
      "627/630 [============================>.] - ETA: 0s - loss: 0.0239 - acc: 0.9925Epoch 00014: loss did not improve\n",
      "630/630 [==============================] - 18s 28ms/step - loss: 0.0238 - acc: 0.9926 - val_loss: 0.0263 - val_acc: 0.9913\n",
      "Epoch 15/20\n",
      "627/630 [============================>.] - ETA: 0s - loss: 0.0171 - acc: 0.9940Epoch 00015: loss improved from 0.02319 to 0.01704, saving model to generator_comparison/comparison-15-0.0170.h5\n",
      "630/630 [==============================] - 18s 28ms/step - loss: 0.0170 - acc: 0.9940 - val_loss: 0.0596 - val_acc: 0.9845\n",
      "Epoch 16/20\n",
      "628/630 [============================>.] - ETA: 0s - loss: 0.0302 - acc: 0.9908Epoch 00016: loss did not improve\n",
      "630/630 [==============================] - 18s 28ms/step - loss: 0.0302 - acc: 0.9908 - val_loss: 0.0423 - val_acc: 0.9879\n",
      "Epoch 17/20\n",
      "629/630 [============================>.] - ETA: 0s - loss: 0.0170 - acc: 0.9950Epoch 00017: loss improved from 0.01704 to 0.01693, saving model to generator_comparison/comparison-17-0.0169.h5\n",
      "630/630 [==============================] - 18s 28ms/step - loss: 0.0169 - acc: 0.9950 - val_loss: 0.0515 - val_acc: 0.9859\n",
      "Epoch 18/20\n",
      "628/630 [============================>.] - ETA: 0s - loss: 0.0212 - acc: 0.9936Epoch 00018: loss did not improve\n",
      "630/630 [==============================] - 18s 28ms/step - loss: 0.0211 - acc: 0.9936 - val_loss: 0.0308 - val_acc: 0.9907\n",
      "Epoch 19/20\n",
      "627/630 [============================>.] - ETA: 0s - loss: 0.0165 - acc: 0.9947Epoch 00019: loss improved from 0.01693 to 0.01655, saving model to generator_comparison/comparison-19-0.0166.h5\n",
      "630/630 [==============================] - 18s 29ms/step - loss: 0.0166 - acc: 0.9947 - val_loss: 0.0318 - val_acc: 0.9907\n",
      "Epoch 20/20\n",
      "629/630 [============================>.] - ETA: 0s - loss: 0.0216 - acc: 0.9937Epoch 00020: loss did not improve\n",
      "630/630 [==============================] - 18s 28ms/step - loss: 0.0216 - acc: 0.9937 - val_loss: 0.0569 - val_acc: 0.9848\n"
     ]
    }
   ],
   "source": [
    "history = model.fit_generator(\n",
    "    train_generator,\n",
    "    steps_per_epoch=nb_train_samples // batch_size,\n",
    "    epochs=epochs,\n",
    "    verbose=1,\n",
    "    callbacks=callbacks_list,\n",
    "    shuffle=True,\n",
    "    validation_data=test_generator,\n",
    "    validation_steps=nb_test_samples // batch_size)"
   ]
  },
  {
   "cell_type": "code",
   "execution_count": 10,
   "metadata": {},
   "outputs": [
    {
     "name": "stdout",
     "output_type": "stream",
     "text": [
      "Accuracy: 98.47%\n",
      "Test loss: 0.05701799388291889\n",
      "Test accuracy 0.9847222222222223\n"
     ]
    }
   ],
   "source": [
    "score = model.evaluate_generator(test_generator)\n",
    "print(\"Accuracy: %.2f%%\" % (score[1]*100))\n",
    "print('Test loss:', score[0])\n",
    "print('Test accuracy', score[1])"
   ]
  },
  {
   "cell_type": "code",
   "execution_count": 11,
   "metadata": {},
   "outputs": [
    {
     "name": "stdout",
     "output_type": "stream",
     "text": [
      "Saved model weights\n"
     ]
    }
   ],
   "source": [
    "model_json = model.to_json()\n",
    "with open('comparison_model.json', 'w') as json_file:\n",
    "    json_file.write(model_json)\n",
    "    \n",
    "model.save_weights('comparison_weights.h5')\n",
    "print('Saved model weights')"
   ]
  },
  {
   "cell_type": "code",
   "execution_count": 12,
   "metadata": {},
   "outputs": [
    {
     "data": {
      "image/png": "[encoded data removed]",
      "text/plain": [
       "<matplotlib.figure.Figure at 0x7ff484a1a208>"
      ]
     },
     "metadata": {},
     "output_type": "display_data"
    }
   ],
   "source": [
    "#summarize for accuracy\n",
    "plt.plot(history.history['acc'])\n",
    "plt.plot(history.history['val_acc'])\n",
    "plt.title('model accuracy')\n",
    "plt.ylabel('accuracy')\n",
    "plt.xlabel('epoch')\n",
    "plt.legend(['train', 'test'], loc='upper left')\n",
    "plt.show()"
   ]
  },
  {
   "cell_type": "code",
   "execution_count": 13,
   "metadata": {},
   "outputs": [
    {
     "data": {
      "image/png": "[encoded data removed]",
      "text/plain": [
       "<matplotlib.figure.Figure at 0x7ff484a68470>"
      ]
     },
     "metadata": {},
     "output_type": "display_data"
    }
   ],
   "source": [
    "#summarize for loss\n",
    "plt.plot(history.history['loss'])\n",
    "plt.plot(history.history['val_loss'])\n",
    "plt.title('model loss')\n",
    "plt.ylabel('loss')\n",
    "plt.xlabel('epoch')\n",
    "plt.legend(['train', 'test'], loc='upper left')\n",
    "plt.show()"
   ]
  }
 ],
 "metadata": {
  "kernelspec": {
   "display_name": "Python 3",
   "language": "python",
   "name": "python3"
  },
  "language_info": {
   "codemirror_mode": {
    "name": "ipython",
    "version": 3
   },
   "file_extension": ".py",
   "mimetype": "text/x-python",
   "name": "python",
   "nbconvert_exporter": "python",
   "pygments_lexer": "ipython3",
   "version": "3.5.2"
  }
 },
 "nbformat": 4,
 "nbformat_minor": 2
}
