{
 "cells": [
  {
   "cell_type": "markdown",
   "metadata": {},
   "source": [
    "## This notebook is made for comparison between dataset provided by loading the whole one into notebook vs the using a generator"
   ]
  },
  {
   "cell_type": "code",
   "execution_count": 1,
   "metadata": {},
   "outputs": [
    {
     "data": {
      "text/plain": [
       "[name: \"/cpu:0\"\n",
       " device_type: \"CPU\"\n",
       " memory_limit: 268435456\n",
       " locality {\n",
       " }\n",
       " incarnation: 13611526205076128243]"
      ]
     },
     "execution_count": 1,
     "metadata": {},
     "output_type": "execute_result"
    }
   ],
   "source": [
    "import tensorflow as tf\n",
    "from tensorflow.python.client import device_lib\n",
    "sess = tf.Session(config=tf.ConfigProto(log_device_placement=True))\n",
    "device_lib.list_local_devices()"
   ]
  },
  {
   "cell_type": "code",
   "execution_count": 2,
   "metadata": {},
   "outputs": [
    {
     "name": "stderr",
     "output_type": "stream",
     "text": [
      "Using TensorFlow backend.\n"
     ]
    }
   ],
   "source": [
    "import numpy as np\n",
    "from keras.preprocessing.image import ImageDataGenerator\n",
    "from keras.models import Sequential\n",
    "from keras.layers import Conv2D, MaxPooling2D\n",
    "from keras.layers import Activation, Dropout, Flatten, Dense\n",
    "from keras.callbacks import ModelCheckpoint\n",
    "from keras.utils.vis_utils import plot_model\n",
    "from sklearn.utils import shuffle\n",
    "from keras import backend as K\n",
    "import matplotlib.pyplot as plt"
   ]
  },
  {
   "cell_type": "code",
   "execution_count": 9,
   "metadata": {},
   "outputs": [],
   "source": [
    "width, height = 64, 64\n",
    "train_data_dir = '../kostki/zdjecia_gen/train'\n",
    "test_data_dir = '../kostki/zdjecia_gen/test'\n",
    "nb_train_samples = 20160\n",
    "nb_test_samples = 5040\n",
    "epochs = 25\n",
    "batch_size = 256\n",
    "\n",
    "input_shape = (width, height, 3)"
   ]
  },
  {
   "cell_type": "code",
   "execution_count": 11,
   "metadata": {},
   "outputs": [],
   "source": [
    "model = Sequential()\n",
    "model.add(Conv2D(32, (5, 5), input_shape=input_shape))\n",
    "model.add(Activation('relu'))\n",
    "model.add(MaxPooling2D(pool_size=(2, 2)))\n",
    "\n",
    "model.add(Conv2D(32, (3, 3)))\n",
    "model.add(Activation('relu'))\n",
    "model.add(MaxPooling2D(pool_size=(2, 2)))\n",
    "\n",
    "model.add(Conv2D(64, (3, 3)))\n",
    "model.add(Activation('relu'))\n",
    "model.add(MaxPooling2D(pool_size=(2, 2)))\n",
    "\n",
    "model.add(Flatten())\n",
    "model.add(Dense(64))\n",
    "model.add(Activation('relu'))\n",
    "model.add(Dropout(0.5))\n",
    "model.add(Dense(6, activation='softmax'))"
   ]
  },
  {
   "cell_type": "code",
   "execution_count": 12,
   "metadata": {},
   "outputs": [],
   "source": [
    "model.compile(loss='categorical_crossentropy',\n",
    "              optimizer='adam',\n",
    "              metrics=['accuracy'])"
   ]
  },
  {
   "cell_type": "code",
   "execution_count": 13,
   "metadata": {},
   "outputs": [
    {
     "name": "stdout",
     "output_type": "stream",
     "text": [
      "_________________________________________________________________\n",
      "Layer (type)                 Output Shape              Param #   \n",
      "=================================================================\n",
      "conv2d_4 (Conv2D)            (None, 60, 60, 32)        2432      \n",
      "_________________________________________________________________\n",
      "activation_5 (Activation)    (None, 60, 60, 32)        0         \n",
      "_________________________________________________________________\n",
      "max_pooling2d_4 (MaxPooling2 (None, 30, 30, 32)        0         \n",
      "_________________________________________________________________\n",
      "conv2d_5 (Conv2D)            (None, 28, 28, 32)        9248      \n",
      "_________________________________________________________________\n",
      "activation_6 (Activation)    (None, 28, 28, 32)        0         \n",
      "_________________________________________________________________\n",
      "max_pooling2d_5 (MaxPooling2 (None, 14, 14, 32)        0         \n",
      "_________________________________________________________________\n",
      "conv2d_6 (Conv2D)            (None, 12, 12, 64)        18496     \n",
      "_________________________________________________________________\n",
      "activation_7 (Activation)    (None, 12, 12, 64)        0         \n",
      "_________________________________________________________________\n",
      "max_pooling2d_6 (MaxPooling2 (None, 6, 6, 64)          0         \n",
      "_________________________________________________________________\n",
      "flatten_2 (Flatten)          (None, 2304)              0         \n",
      "_________________________________________________________________\n",
      "dense_3 (Dense)              (None, 64)                147520    \n",
      "_________________________________________________________________\n",
      "activation_8 (Activation)    (None, 64)                0         \n",
      "_________________________________________________________________\n",
      "dropout_2 (Dropout)          (None, 64)                0         \n",
      "_________________________________________________________________\n",
      "dense_4 (Dense)              (None, 6)                 390       \n",
      "=================================================================\n",
      "Total params: 178,086\n",
      "Trainable params: 178,086\n",
      "Non-trainable params: 0\n",
      "_________________________________________________________________\n",
      "None\n"
     ]
    }
   ],
   "source": [
    "# summarize model and apply checkpoints\n",
    "print(model.summary())\n",
    "filepath = 'generator_comparison-{epoch:02d}-{loss:.4f}.h5'\n",
    "checkpoint = ModelCheckpoint(filepath, monitor='loss', verbose=1, save_best_only=True, mode='min')\n",
    "callbacks_list = [checkpoint]"
   ]
  },
  {
   "cell_type": "code",
   "execution_count": 14,
   "metadata": {},
   "outputs": [],
   "source": [
    "train_datagen = ImageDataGenerator(\n",
    "    rescale=1. / 255)\n",
    "test_datagen = ImageDataGenerator(rescale=1. / 255)"
   ]
  },
  {
   "cell_type": "code",
   "execution_count": 15,
   "metadata": {},
   "outputs": [
    {
     "name": "stdout",
     "output_type": "stream",
     "text": [
      "Found 20160 images belonging to 6 classes.\n",
      "Found 5040 images belonging to 6 classes.\n"
     ]
    }
   ],
   "source": [
    "train_generator = train_datagen.flow_from_directory(\n",
    "    train_data_dir,\n",
    "    target_size=(width, height),\n",
    "    color_mode='rgb',\n",
    "    batch_size=batch_size,\n",
    "    class_mode='categorical',\n",
    "    classes=['1', '2', '3', '4', '5', '6'],\n",
    "    shuffle=True,\n",
    "    seed=2018)\n",
    "\n",
    "test_generator = test_datagen.flow_from_directory(\n",
    "    test_data_dir,\n",
    "    target_size=(width, height),\n",
    "    color_mode='rgb',\n",
    "    batch_size=batch_size,\n",
    "    class_mode='categorical',\n",
    "    classes=['1', '2', '3', '4', '5', '6'],\n",
    "    shuffle=True,\n",
    "    seed=2018)"
   ]
  },
  {
   "cell_type": "code",
   "execution_count": null,
   "metadata": {},
   "outputs": [
    {
     "name": "stdout",
     "output_type": "stream",
     "text": [
      "Epoch 1/25\n",
      "78/78 [==============================] - 73s 937ms/step - loss: 1.7756 - acc: 0.1889 - val_loss: 1.6726 - val_acc: 0.2975\n",
      "\n",
      "Epoch 00001: loss improved from inf to 1.77552, saving model to generator_comparison-01-1.7755.h5\n",
      "Epoch 2/25\n",
      "78/78 [==============================] - 68s 873ms/step - loss: 1.6072 - acc: 0.3080 - val_loss: 1.4619 - val_acc: 0.3886\n",
      "\n",
      "Epoch 00002: loss improved from 1.77552 to 1.60715, saving model to generator_comparison-02-1.6071.h5\n",
      "Epoch 3/25\n",
      "78/78 [==============================] - 73s 933ms/step - loss: 1.3376 - acc: 0.4231 - val_loss: 1.1094 - val_acc: 0.5512\n",
      "\n",
      "Epoch 00003: loss improved from 1.60715 to 1.33818, saving model to generator_comparison-03-1.3382.h5\n",
      "Epoch 4/25\n",
      "78/78 [==============================] - 72s 928ms/step - loss: 1.1139 - acc: 0.5231 - val_loss: 0.9290 - val_acc: 0.6369\n",
      "\n",
      "Epoch 00004: loss improved from 1.33818 to 1.11395, saving model to generator_comparison-04-1.1140.h5\n",
      "Epoch 5/25\n",
      "78/78 [==============================] - 72s 921ms/step - loss: 0.9400 - acc: 0.6028 - val_loss: 0.7967 - val_acc: 0.7226\n",
      "\n",
      "Epoch 00005: loss improved from 1.11395 to 0.93968, saving model to generator_comparison-05-0.9397.h5\n",
      "Epoch 6/25\n",
      "78/78 [==============================] - 72s 922ms/step - loss: 0.7847 - acc: 0.6711 - val_loss: 0.5983 - val_acc: 0.7818\n",
      "\n",
      "Epoch 00006: loss improved from 0.93968 to 0.78464, saving model to generator_comparison-06-0.7846.h5\n",
      "Epoch 7/25\n",
      "78/78 [==============================] - 73s 932ms/step - loss: 0.6681 - acc: 0.7223 - val_loss: 0.5606 - val_acc: 0.7776\n",
      "\n",
      "Epoch 00007: loss improved from 0.78464 to 0.66840, saving model to generator_comparison-07-0.6684.h5\n",
      "Epoch 8/25\n",
      "78/78 [==============================] - 73s 937ms/step - loss: 0.5966 - acc: 0.7564 - val_loss: 0.4852 - val_acc: 0.8177\n",
      "\n",
      "Epoch 00008: loss improved from 0.66840 to 0.59675, saving model to generator_comparison-08-0.5967.h5\n",
      "Epoch 9/25\n",
      "78/78 [==============================] - 74s 947ms/step - loss: 0.5497 - acc: 0.7763 - val_loss: 0.4207 - val_acc: 0.8599\n",
      "\n",
      "Epoch 00009: loss improved from 0.59675 to 0.55001, saving model to generator_comparison-09-0.5500.h5\n",
      "Epoch 10/25\n",
      "78/78 [==============================] - 67s 860ms/step - loss: 0.4830 - acc: 0.8089 - val_loss: 0.3965 - val_acc: 0.8409\n",
      "\n",
      "Epoch 00010: loss improved from 0.55001 to 0.48301, saving model to generator_comparison-10-0.4830.h5\n",
      "Epoch 11/25\n",
      "31/78 [==========>...................] - ETA: 36s - loss: 0.4427 - acc: 0.8278"
     ]
    }
   ],
   "source": [
    "history = model.fit_generator(\n",
    "    train_generator,\n",
    "    steps_per_epoch=nb_train_samples // batch_size,\n",
    "    epochs=epochs,\n",
    "    verbose=1,\n",
    "    callbacks=callbacks_list,\n",
    "    shuffle=True,\n",
    "    validation_data=test_generator,\n",
    "    validation_steps=nb_test_samples // batch_size)"
   ]
  },
  {
   "cell_type": "code",
   "execution_count": null,
   "metadata": {},
   "outputs": [],
   "source": [
    "print(history.history.keys())\n",
    "print(\"Accuracy: %.2f%%\" % (score[1]*100))\n",
    "print('Test loss:', score[0])\n",
    "print('Test accuracy', score[1])"
   ]
  },
  {
   "cell_type": "code",
   "execution_count": null,
   "metadata": {},
   "outputs": [],
   "source": [
    "#summarize for accuracy\n",
    "plt.plot(history.history['acc'])\n",
    "plt.plot(history.history['val_acc'])\n",
    "plt.title('model accuracy')\n",
    "plt.ylabel('accuracy')\n",
    "plt.xlabel('epoch')\n",
    "plt.legend(['train', 'test'], loc='upper left')\n",
    "plt.show()"
   ]
  },
  {
   "cell_type": "code",
   "execution_count": null,
   "metadata": {},
   "outputs": [],
   "source": [
    "#summarize for loss\n",
    "plt.plot(history.history['loss'])\n",
    "plt.plot(history.history['val_loss'])\n",
    "plt.title('model loss')\n",
    "plt.ylabel('loss')\n",
    "plt.xlabel('epoch')\n",
    "plt.legend(['train', 'test'], loc='upper left')\n",
    "plt.show()"
   ]
  },
  {
   "cell_type": "code",
   "execution_count": null,
   "metadata": {},
   "outputs": [],
   "source": [
    "model_json = model.to_json()\n",
    "with open('firstgenerator_model.json', 'w') as json_file:\n",
    "    json_file.write(model_json)\n",
    "    \n",
    "model.save_weights('firstgenerator_weights.h5')\n",
    "print('Saved model weights')"
   ]
  }
 ],
 "metadata": {
  "kernelspec": {
   "display_name": "Python 3",
   "language": "python",
   "name": "python3"
  },
  "language_info": {
   "codemirror_mode": {
    "name": "ipython",
    "version": 3
   },
   "file_extension": ".py",
   "mimetype": "text/x-python",
   "name": "python",
   "nbconvert_exporter": "python",
   "pygments_lexer": "ipython3",
   "version": "3.6.4"
  }
 },
 "nbformat": 4,
 "nbformat_minor": 2
}
