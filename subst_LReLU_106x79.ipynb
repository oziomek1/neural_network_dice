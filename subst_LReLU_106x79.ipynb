{
 "cells": [
  {
   "cell_type": "markdown",
   "metadata": {},
   "source": [
    "## Substitution with smaller LeakyReLu, Conv-s and ZeroPadding\n",
    "### This is very first attempt with LeakyReLU\n",
    "Substitution presented here is very well described under this link:\n",
    "\n",
    "[https://leonardoaraujosantos.gitbooks.io/artificial-inteligence/content/convolutional_neural_networks.html](https://leonardoaraujosantos.gitbooks.io/artificial-inteligence/content/convolutional_neural_networks.html)\n",
    "\n",
    "Each image 106x79x1"
   ]
  },
  {
   "cell_type": "code",
   "execution_count": 1,
   "metadata": {},
   "outputs": [
    {
     "data": {
      "text/plain": [
       "[name: \"/device:CPU:0\"\n",
       " device_type: \"CPU\"\n",
       " memory_limit: 268435456\n",
       " locality {\n",
       " }\n",
       " incarnation: 16464584643074866572, name: \"/device:GPU:0\"\n",
       " device_type: \"GPU\"\n",
       " memory_limit: 356122624\n",
       " locality {\n",
       "   bus_id: 1\n",
       " }\n",
       " incarnation: 15010918190853181526\n",
       " physical_device_desc: \"device: 0, name: Tesla K80, pci bus id: 0000:00:1e.0, compute capability: 3.7\"]"
      ]
     },
     "execution_count": 1,
     "metadata": {},
     "output_type": "execute_result"
    }
   ],
   "source": [
    "import tensorflow as tf\n",
    "from tensorflow.python.client import device_lib\n",
    "sess = tf.Session(config=tf.ConfigProto(log_device_placement=True))\n",
    "device_lib.list_local_devices()"
   ]
  },
  {
   "cell_type": "code",
   "execution_count": 2,
   "metadata": {},
   "outputs": [
    {
     "name": "stderr",
     "output_type": "stream",
     "text": [
      "Using TensorFlow backend.\n"
     ]
    }
   ],
   "source": [
    "import numpy as np\n",
    "from keras.preprocessing.image import ImageDataGenerator\n",
    "from keras.models import Sequential\n",
    "from keras.layers import Conv2D, MaxPooling2D, ZeroPadding2D\n",
    "from keras.layers import Activation, Dropout, Flatten, Dense\n",
    "from keras.layers.advanced_activations import LeakyReLU, PReLU\n",
    "from keras.callbacks import ModelCheckpoint\n",
    "from keras.utils.vis_utils import plot_model\n",
    "from sklearn.utils import shuffle\n",
    "from keras import backend as K\n",
    "import matplotlib.pyplot as plt"
   ]
  },
  {
   "cell_type": "code",
   "execution_count": 3,
   "metadata": {},
   "outputs": [],
   "source": [
    "width, height = 106, 79\n",
    "train_data_dir = '../gen_x3_3/train'\n",
    "test_data_dir = '../gen_x3_3/test'\n",
    "nb_train_samples = 47232\n",
    "nb_test_samples = 11808\n",
    "epochs = 20\n",
    "batch_size = 1024\n",
    "\n",
    "input_shape = (width, height, 1)"
   ]
  },
  {
   "cell_type": "code",
   "execution_count": 4,
   "metadata": {},
   "outputs": [
    {
     "name": "stdout",
     "output_type": "stream",
     "text": [
      "WARNING:tensorflow:From /usr/local/lib/python3.5/dist-packages/keras/backend/tensorflow_backend.py:1264: calling reduce_prod (from tensorflow.python.ops.math_ops) with keep_dims is deprecated and will be removed in a future version.\n",
      "Instructions for updating:\n",
      "keep_dims is deprecated, use keepdims instead\n"
     ]
    }
   ],
   "source": [
    "model = Sequential()\n",
    "model.add(ZeroPadding2D(padding=(4, 4), name='zeropad1', input_shape=input_shape))\n",
    "model.add(Conv2D(32, (9, 9), strides=(2, 2), padding='same', name='conv1'))\n",
    "model.add(LeakyReLU(alpha=1e-2))\n",
    "model.add(MaxPooling2D(pool_size=(2, 2), strides=(2, 2), padding='same', name='maxpool1'))\n",
    "\n",
    "# same as:\n",
    "# ZeroPadding2D(padding(4, 4))\n",
    "# Conv2D(64, kernel_size(9, 9), strides=(1, 1), padding='same')\n",
    "model.add(ZeroPadding2D(padding=(1, 1), name='block1zeropad1'))\n",
    "model.add(Conv2D(64, kernel_size=(3, 3), strides=(1, 1), padding='same', name='block1_conv1'))\n",
    "model.add(LeakyReLU(alpha=1e-2))\n",
    "model.add(ZeroPadding2D(padding=(1, 1), name='block1zeropad2'))\n",
    "model.add(Conv2D(64, kernel_size=(3, 3), strides=(1, 1), padding='same', name='block1_conv2'))\n",
    "model.add(LeakyReLU(alpha=1e-2))\n",
    "model.add(ZeroPadding2D(padding=(1, 1), name='block1zeropad3'))\n",
    "model.add(Conv2D(64, kernel_size=(3, 3), strides=(1, 1), padding='same', name='block1_conv3'))\n",
    "model.add(LeakyReLU(alpha=1e-2))\n",
    "model.add(ZeroPadding2D(padding=(1, 1), name='block1zeropad4'))\n",
    "model.add(Conv2D(64, kernel_size=(3, 3), strides=(1, 1), padding='same', name='block1_conv4'))\n",
    "model.add(LeakyReLU(alpha=1e-2))\n",
    "model.add(MaxPooling2D(pool_size=(2, 2), strides=(2, 2), padding='same', name='maxpool2'))\n",
    "\n",
    "# same as:\n",
    "# ZeroPadding2D(padding(1, 1))\n",
    "# model.add(Conv2D(128, kernel_size=(3, 3), strides=(1, 1), padding='same'))\n",
    "model.add(Conv2D(64, kernel_size=(1, 1), strides=(1, 1), padding='same', name='block2_conv1'))\n",
    "model.add(LeakyReLU(alpha=1e-2))\n",
    "model.add(ZeroPadding2D(padding=(1, 1), name='block2zeropad2'))\n",
    "model.add(Conv2D(64, kernel_size=(3, 3), strides=(1, 1), padding='valid', name='block2_conv2'))\n",
    "model.add(LeakyReLU(alpha=1e-2))\n",
    "model.add(Conv2D(128, kernel_size=(1, 1), strides=(1, 1), padding='same', name='block2_conv3'))\n",
    "model.add(LeakyReLU(alpha=1e-2))\n",
    "model.add(MaxPooling2D(pool_size=(2, 2), strides=(2, 2), padding='same', name='maxpool3'))\n",
    "\n",
    "# same as:\n",
    "# ZeroPadding2D(padding(1, 1))\n",
    "# model.add(Conv2D(128, kernel_size=(3, 3), strides=(1, 1), padding='same'))\n",
    "model.add(Conv2D(64, kernel_size=(1, 1), strides=(1, 1), padding='same', name='block3_conv1'))\n",
    "model.add(LeakyReLU(alpha=1e-2))\n",
    "model.add(ZeroPadding2D(padding=(1, 1), name='block3zeropad1'))\n",
    "model.add(Conv2D(64, kernel_size=(3, 3), strides=(1, 1), padding='valid', name='block3_conv2'))\n",
    "model.add(LeakyReLU(alpha=1e-2))\n",
    "model.add(Conv2D(128, kernel_size=(1, 1), strides=(1, 1), padding='same', name='block3_conv3'))\n",
    "model.add(LeakyReLU(alpha=1e-2))\n",
    "model.add(MaxPooling2D(pool_size=(2, 2), strides=(2, 2), padding='same', name='maxpool4'))\n",
    "\n",
    "model.add(Conv2D(128, kernel_size=(3, 3), strides=(1, 1), padding='same', name='block4_conv1'))\n",
    "model.add(LeakyReLU(alpha=1e-2))\n",
    "model.add(Flatten())\n",
    "\n",
    "model.add(Dense(1024))\n",
    "model.add(LeakyReLU(alpha=1e-2))\n",
    "model.add(Dropout(0.2))\n",
    "\n",
    "model.add(Dense(512))\n",
    "model.add(LeakyReLU(alpha=1e-2))\n",
    "model.add(Dropout(0.2))\n",
    "\n",
    "model.add(Dense(128, activation='relu'))\n",
    "model.add(Dense(6, activation='softmax'))"
   ]
  },
  {
   "cell_type": "code",
   "execution_count": 5,
   "metadata": {},
   "outputs": [
    {
     "name": "stdout",
     "output_type": "stream",
     "text": [
      "WARNING:tensorflow:From /usr/local/lib/python3.5/dist-packages/keras/backend/tensorflow_backend.py:2885: calling reduce_sum (from tensorflow.python.ops.math_ops) with keep_dims is deprecated and will be removed in a future version.\n",
      "Instructions for updating:\n",
      "keep_dims is deprecated, use keepdims instead\n",
      "WARNING:tensorflow:From /usr/local/lib/python3.5/dist-packages/keras/backend/tensorflow_backend.py:1349: calling reduce_mean (from tensorflow.python.ops.math_ops) with keep_dims is deprecated and will be removed in a future version.\n",
      "Instructions for updating:\n",
      "keep_dims is deprecated, use keepdims instead\n"
     ]
    }
   ],
   "source": [
    "model.compile(loss='categorical_crossentropy',\n",
    "              optimizer='adam',\n",
    "              metrics=['accuracy'])"
   ]
  },
  {
   "cell_type": "code",
   "execution_count": 6,
   "metadata": {},
   "outputs": [
    {
     "name": "stdout",
     "output_type": "stream",
     "text": [
      "_________________________________________________________________\n",
      "Layer (type)                 Output Shape              Param #   \n",
      "=================================================================\n",
      "zeropad1 (ZeroPadding2D)     (None, 114, 87, 1)        0         \n",
      "_________________________________________________________________\n",
      "conv1 (Conv2D)               (None, 57, 44, 32)        2624      \n",
      "_________________________________________________________________\n",
      "leaky_re_lu_1 (LeakyReLU)    (None, 57, 44, 32)        0         \n",
      "_________________________________________________________________\n",
      "maxpool1 (MaxPooling2D)      (None, 29, 22, 32)        0         \n",
      "_________________________________________________________________\n",
      "block1zeropad1 (ZeroPadding2 (None, 31, 24, 32)        0         \n",
      "_________________________________________________________________\n",
      "block1_conv1 (Conv2D)        (None, 31, 24, 64)        18496     \n",
      "_________________________________________________________________\n",
      "leaky_re_lu_2 (LeakyReLU)    (None, 31, 24, 64)        0         \n",
      "_________________________________________________________________\n",
      "block1zeropad2 (ZeroPadding2 (None, 33, 26, 64)        0         \n",
      "_________________________________________________________________\n",
      "block1_conv2 (Conv2D)        (None, 33, 26, 64)        36928     \n",
      "_________________________________________________________________\n",
      "leaky_re_lu_3 (LeakyReLU)    (None, 33, 26, 64)        0         \n",
      "_________________________________________________________________\n",
      "block1zeropad3 (ZeroPadding2 (None, 35, 28, 64)        0         \n",
      "_________________________________________________________________\n",
      "block1_conv3 (Conv2D)        (None, 35, 28, 64)        36928     \n",
      "_________________________________________________________________\n",
      "leaky_re_lu_4 (LeakyReLU)    (None, 35, 28, 64)        0         \n",
      "_________________________________________________________________\n",
      "block1zeropad4 (ZeroPadding2 (None, 37, 30, 64)        0         \n",
      "_________________________________________________________________\n",
      "block1_conv4 (Conv2D)        (None, 37, 30, 64)        36928     \n",
      "_________________________________________________________________\n",
      "leaky_re_lu_5 (LeakyReLU)    (None, 37, 30, 64)        0         \n",
      "_________________________________________________________________\n",
      "maxpool2 (MaxPooling2D)      (None, 19, 15, 64)        0         \n",
      "_________________________________________________________________\n",
      "block2_conv1 (Conv2D)        (None, 19, 15, 64)        4160      \n",
      "_________________________________________________________________\n",
      "leaky_re_lu_6 (LeakyReLU)    (None, 19, 15, 64)        0         \n",
      "_________________________________________________________________\n",
      "block2zeropad2 (ZeroPadding2 (None, 21, 17, 64)        0         \n",
      "_________________________________________________________________\n",
      "block2_conv2 (Conv2D)        (None, 19, 15, 64)        36928     \n",
      "_________________________________________________________________\n",
      "leaky_re_lu_7 (LeakyReLU)    (None, 19, 15, 64)        0         \n",
      "_________________________________________________________________\n",
      "block2_conv3 (Conv2D)        (None, 19, 15, 128)       8320      \n",
      "_________________________________________________________________\n",
      "leaky_re_lu_8 (LeakyReLU)    (None, 19, 15, 128)       0         \n",
      "_________________________________________________________________\n",
      "maxpool3 (MaxPooling2D)      (None, 10, 8, 128)        0         \n",
      "_________________________________________________________________\n",
      "block3_conv1 (Conv2D)        (None, 10, 8, 64)         8256      \n",
      "_________________________________________________________________\n",
      "leaky_re_lu_9 (LeakyReLU)    (None, 10, 8, 64)         0         \n",
      "_________________________________________________________________\n",
      "block3zeropad1 (ZeroPadding2 (None, 12, 10, 64)        0         \n",
      "_________________________________________________________________\n",
      "block3_conv2 (Conv2D)        (None, 10, 8, 64)         36928     \n",
      "_________________________________________________________________\n",
      "leaky_re_lu_10 (LeakyReLU)   (None, 10, 8, 64)         0         \n",
      "_________________________________________________________________\n",
      "block3_conv3 (Conv2D)        (None, 10, 8, 128)        8320      \n",
      "_________________________________________________________________\n",
      "leaky_re_lu_11 (LeakyReLU)   (None, 10, 8, 128)        0         \n",
      "_________________________________________________________________\n",
      "maxpool4 (MaxPooling2D)      (None, 5, 4, 128)         0         \n",
      "_________________________________________________________________\n",
      "block4_conv1 (Conv2D)        (None, 5, 4, 128)         147584    \n",
      "_________________________________________________________________\n",
      "leaky_re_lu_12 (LeakyReLU)   (None, 5, 4, 128)         0         \n",
      "_________________________________________________________________\n",
      "flatten_1 (Flatten)          (None, 2560)              0         \n",
      "_________________________________________________________________\n",
      "dense_1 (Dense)              (None, 1024)              2622464   \n",
      "_________________________________________________________________\n",
      "leaky_re_lu_13 (LeakyReLU)   (None, 1024)              0         \n",
      "_________________________________________________________________\n",
      "dropout_1 (Dropout)          (None, 1024)              0         \n",
      "_________________________________________________________________\n",
      "dense_2 (Dense)              (None, 512)               524800    \n",
      "_________________________________________________________________\n",
      "leaky_re_lu_14 (LeakyReLU)   (None, 512)               0         \n",
      "_________________________________________________________________\n",
      "dropout_2 (Dropout)          (None, 512)               0         \n",
      "_________________________________________________________________\n",
      "dense_3 (Dense)              (None, 128)               65664     \n",
      "_________________________________________________________________\n",
      "dense_4 (Dense)              (None, 6)                 774       \n",
      "=================================================================\n",
      "Total params: 3,596,102\n",
      "Trainable params: 3,596,102\n",
      "Non-trainable params: 0\n",
      "_________________________________________________________________\n",
      "None\n"
     ]
    }
   ],
   "source": [
    "# summarize model and apply checkpoints\n",
    "print(model.summary())\n",
    "filepath = 'subst_LReLU/subst_LReLU_106x79-{epoch:02d}-{loss:.4f}.h5'\n",
    "checkpoint = ModelCheckpoint(filepath, monitor='loss', verbose=1, save_best_only=True, mode='min')\n",
    "callbacks_list = [checkpoint]"
   ]
  },
  {
   "cell_type": "code",
   "execution_count": 7,
   "metadata": {},
   "outputs": [],
   "source": [
    "train_datagen = ImageDataGenerator(\n",
    "    rescale=1. / 255,\n",
    "    shear_range=0.20,\n",
    "    zoom_range=0.15,\n",
    "    fill_mode='nearest')\n",
    "test_datagen = ImageDataGenerator(rescale=1. / 255)"
   ]
  },
  {
   "cell_type": "code",
   "execution_count": 8,
   "metadata": {},
   "outputs": [
    {
     "name": "stdout",
     "output_type": "stream",
     "text": [
      "Found 47232 images belonging to 6 classes.\n",
      "Found 11808 images belonging to 6 classes.\n"
     ]
    }
   ],
   "source": [
    "train_generator = train_datagen.flow_from_directory(\n",
    "    train_data_dir,\n",
    "    target_size=(width, height),\n",
    "    batch_size=batch_size,\n",
    "    color_mode='grayscale',\n",
    "    class_mode='categorical',\n",
    "    classes=['1', '2', '3', '4', '5', '6'],\n",
    "    shuffle=True,\n",
    "    seed=2018)\n",
    "\n",
    "test_generator = test_datagen.flow_from_directory(\n",
    "    test_data_dir,\n",
    "    target_size=(width, height),\n",
    "    batch_size=batch_size,\n",
    "    color_mode='grayscale',\n",
    "    class_mode='categorical',\n",
    "    classes=['1', '2', '3', '4', '5', '6'],\n",
    "    shuffle=True,\n",
    "    seed=2018)"
   ]
  },
  {
   "cell_type": "code",
   "execution_count": 9,
   "metadata": {},
   "outputs": [
    {
     "name": "stdout",
     "output_type": "stream",
     "text": [
      "Epoch 1/20\n",
      "45/46 [============================>.] - ETA: 1s - loss: 1.7919 - acc: 0.1656Epoch 00001: loss improved from inf to 1.79191, saving model to subst_LReLU/subst_LReLU_106x79-01-1.7919.h5\n",
      "46/46 [==============================] - 61s 1s/step - loss: 1.7919 - acc: 0.1656 - val_loss: 1.7918 - val_acc: 0.1673\n",
      "Epoch 2/20\n",
      "45/46 [============================>.] - ETA: 1s - loss: 1.7918 - acc: 0.1659Epoch 00002: loss improved from 1.79191 to 1.79181, saving model to subst_LReLU/subst_LReLU_106x79-02-1.7918.h5\n",
      "46/46 [==============================] - 54s 1s/step - loss: 1.7918 - acc: 0.1660 - val_loss: 1.7918 - val_acc: 0.1678\n",
      "Epoch 3/20\n",
      "45/46 [============================>.] - ETA: 1s - loss: 1.7919 - acc: 0.1659Epoch 00003: loss did not improve\n",
      "46/46 [==============================] - 55s 1s/step - loss: 1.7919 - acc: 0.1659 - val_loss: 1.7918 - val_acc: 0.1669\n",
      "Epoch 4/20\n",
      "45/46 [============================>.] - ETA: 1s - loss: 1.7919 - acc: 0.1637Epoch 00004: loss did not improve\n",
      "46/46 [==============================] - 53s 1s/step - loss: 1.7919 - acc: 0.1643 - val_loss: 1.7918 - val_acc: 0.1673\n",
      "Epoch 5/20\n",
      "45/46 [============================>.] - ETA: 1s - loss: 1.7918 - acc: 0.1670Epoch 00005: loss improved from 1.79181 to 1.79180, saving model to subst_LReLU/subst_LReLU_106x79-05-1.7918.h5\n",
      "46/46 [==============================] - 55s 1s/step - loss: 1.7918 - acc: 0.1670 - val_loss: 1.7918 - val_acc: 0.1665\n",
      "Epoch 6/20\n",
      "45/46 [============================>.] - ETA: 1s - loss: 1.7918 - acc: 0.1674Epoch 00006: loss improved from 1.79180 to 1.79179, saving model to subst_LReLU/subst_LReLU_106x79-06-1.7918.h5\n",
      "46/46 [==============================] - 54s 1s/step - loss: 1.7918 - acc: 0.1675 - val_loss: 1.7918 - val_acc: 0.1659\n",
      "Epoch 7/20\n",
      "45/46 [============================>.] - ETA: 1s - loss: 1.7918 - acc: 0.1613Epoch 00007: loss did not improve\n",
      "46/46 [==============================] - 56s 1s/step - loss: 1.7918 - acc: 0.1617 - val_loss: 1.7918 - val_acc: 0.1657\n",
      "Epoch 8/20\n",
      "45/46 [============================>.] - ETA: 1s - loss: 1.7918 - acc: 0.1638Epoch 00008: loss did not improve\n",
      "46/46 [==============================] - 57s 1s/step - loss: 1.7918 - acc: 0.1643 - val_loss: 1.7918 - val_acc: 0.1657\n",
      "Epoch 9/20\n",
      "45/46 [============================>.] - ETA: 1s - loss: 1.7918 - acc: 0.1637Epoch 00009: loss improved from 1.79179 to 1.79178, saving model to subst_LReLU/subst_LReLU_106x79-09-1.7918.h5\n",
      "46/46 [==============================] - 56s 1s/step - loss: 1.7918 - acc: 0.1635 - val_loss: 1.7918 - val_acc: 0.1659\n",
      "Epoch 10/20\n",
      "45/46 [============================>.] - ETA: 1s - loss: 1.7918 - acc: 0.1642Epoch 00010: loss did not improve\n",
      "46/46 [==============================] - 56s 1s/step - loss: 1.7918 - acc: 0.1643 - val_loss: 1.7918 - val_acc: 0.1678\n",
      "Epoch 11/20\n",
      "45/46 [============================>.] - ETA: 1s - loss: 1.7918 - acc: 0.1659Epoch 00011: loss did not improve\n",
      "46/46 [==============================] - 57s 1s/step - loss: 1.7918 - acc: 0.1655 - val_loss: 1.7918 - val_acc: 0.1657\n",
      "Epoch 12/20\n",
      "45/46 [============================>.] - ETA: 1s - loss: 1.7918 - acc: 0.1681Epoch 00012: loss did not improve\n",
      "46/46 [==============================] - 56s 1s/step - loss: 1.7918 - acc: 0.1681 - val_loss: 1.7918 - val_acc: 0.1665\n",
      "Epoch 13/20\n",
      "45/46 [============================>.] - ETA: 1s - loss: 1.7918 - acc: 0.1673Epoch 00013: loss did not improve\n",
      "46/46 [==============================] - 57s 1s/step - loss: 1.7918 - acc: 0.1671 - val_loss: 1.7918 - val_acc: 0.1665\n",
      "Epoch 14/20\n",
      "45/46 [============================>.] - ETA: 1s - loss: 1.7918 - acc: 0.1638Epoch 00014: loss did not improve\n",
      "46/46 [==============================] - 56s 1s/step - loss: 1.7918 - acc: 0.1636 - val_loss: 1.7918 - val_acc: 0.1673\n",
      "Epoch 15/20\n",
      "45/46 [============================>.] - ETA: 1s - loss: 1.7918 - acc: 0.1647Epoch 00015: loss did not improve\n",
      "46/46 [==============================] - 56s 1s/step - loss: 1.7918 - acc: 0.1649 - val_loss: 1.7918 - val_acc: 0.1657\n",
      "Epoch 16/20\n",
      "45/46 [============================>.] - ETA: 1s - loss: 1.7918 - acc: 0.1668Epoch 00016: loss did not improve\n",
      "46/46 [==============================] - 57s 1s/step - loss: 1.7918 - acc: 0.1668 - val_loss: 1.7918 - val_acc: 0.1665\n",
      "Epoch 17/20\n",
      "45/46 [============================>.] - ETA: 1s - loss: 1.7918 - acc: 0.1655Epoch 00017: loss improved from 1.79178 to 1.79178, saving model to subst_LReLU/subst_LReLU_106x79-17-1.7918.h5\n",
      "46/46 [==============================] - 55s 1s/step - loss: 1.7918 - acc: 0.1657 - val_loss: 1.7918 - val_acc: 0.1665\n",
      "Epoch 18/20\n",
      "45/46 [============================>.] - ETA: 1s - loss: 1.7918 - acc: 0.1646Epoch 00018: loss improved from 1.79178 to 1.79178, saving model to subst_LReLU/subst_LReLU_106x79-18-1.7918.h5\n",
      "46/46 [==============================] - 57s 1s/step - loss: 1.7918 - acc: 0.1645 - val_loss: 1.7918 - val_acc: 0.1669\n",
      "Epoch 19/20\n",
      "45/46 [============================>.] - ETA: 1s - loss: 1.7918 - acc: 0.1655Epoch 00019: loss did not improve\n",
      "46/46 [==============================] - 55s 1s/step - loss: 1.7918 - acc: 0.1652 - val_loss: 1.7918 - val_acc: 0.1678\n",
      "Epoch 20/20\n",
      "45/46 [============================>.] - ETA: 1s - loss: 1.7918 - acc: 0.1645Epoch 00020: loss did not improve\n",
      "46/46 [==============================] - 57s 1s/step - loss: 1.7918 - acc: 0.1645 - val_loss: 1.7918 - val_acc: 0.1657\n"
     ]
    }
   ],
   "source": [
    "history = model.fit_generator(\n",
    "    train_generator,\n",
    "    steps_per_epoch=nb_train_samples // batch_size,\n",
    "    epochs=epochs,\n",
    "    verbose=1,\n",
    "    callbacks=callbacks_list,\n",
    "    shuffle=True,\n",
    "    validation_data=test_generator,\n",
    "    validation_steps=nb_test_samples // batch_size)"
   ]
  },
  {
   "cell_type": "code",
   "execution_count": 10,
   "metadata": {},
   "outputs": [
    {
     "name": "stdout",
     "output_type": "stream",
     "text": [
      "Accuracy: 16.67%\n",
      "Test loss: 1.7917614451591886\n",
      "Test accuracy 0.16666666666666666\n"
     ]
    }
   ],
   "source": [
    "score = model.evaluate_generator(test_generator)\n",
    "print(\"Accuracy: %.2f%%\" % (score[1]*100))\n",
    "print('Test loss:', score[0])\n",
    "print('Test accuracy', score[1])"
   ]
  },
  {
   "cell_type": "code",
   "execution_count": 11,
   "metadata": {},
   "outputs": [
    {
     "name": "stdout",
     "output_type": "stream",
     "text": [
      "Saved model weights\n"
     ]
    }
   ],
   "source": [
    "model_json = model.to_json()\n",
    "with open('subst_LReLU_106x79_model.json', 'w') as json_file:\n",
    "    json_file.write(model_json)\n",
    "    \n",
    "model.save_weights('subst_LReLU_106x79_weights.h5')\n",
    "print('Saved model weights')"
   ]
  },
  {
   "cell_type": "code",
   "execution_count": 12,
   "metadata": {},
   "outputs": [
    {
     "data": {
      "image/png": "[encoded data removed]",
      "text/plain": [
       "<matplotlib.figure.Figure at 0x7fe9115d0588>"
      ]
     },
     "metadata": {},
     "output_type": "display_data"
    }
   ],
   "source": [
    "#summarize for accuracy\n",
    "plt.plot(history.history['acc'])\n",
    "plt.plot(history.history['val_acc'])\n",
    "plt.title('model accuracy')\n",
    "plt.ylabel('accuracy')\n",
    "plt.xlabel('epoch')\n",
    "plt.legend(['train', 'test'], loc='upper left')\n",
    "plt.show()"
   ]
  },
  {
   "cell_type": "code",
   "execution_count": 13,
   "metadata": {},
   "outputs": [
    {
     "data": {
      "image/png": "[encoded data removed]",
      "text/plain": [
       "<matplotlib.figure.Figure at 0x7fe9115d07b8>"
      ]
     },
     "metadata": {},
     "output_type": "display_data"
    }
   ],
   "source": [
    "#summarize for loss\n",
    "plt.plot(history.history['loss'])\n",
    "plt.plot(history.history['val_loss'])\n",
    "plt.title('model loss')\n",
    "plt.ylabel('loss')\n",
    "plt.xlabel('epoch')\n",
    "plt.legend(['train', 'test'], loc='upper left')\n",
    "plt.show()"
   ]
  },
  {
   "cell_type": "code",
   "execution_count": 16,
   "metadata": {},
   "outputs": [],
   "source": [
    "plot_model(model, to_file='subst_LReLU/subst_LReLU_106x79_plot.png', show_shapes=True, show_layer_names=True)"
   ]
  },
  {
   "cell_type": "code",
   "execution_count": null,
   "metadata": {},
   "outputs": [],
   "source": []
  }
 ],
 "metadata": {
  "kernelspec": {
   "display_name": "Python 3",
   "language": "python",
   "name": "python3"
  },
  "language_info": {
   "codemirror_mode": {
    "name": "ipython",
    "version": 3
   },
   "file_extension": ".py",
   "mimetype": "text/x-python",
   "name": "python",
   "nbconvert_exporter": "python",
   "pygments_lexer": "ipython3",
   "version": "3.6.4"
  }
 },
 "nbformat": 4,
 "nbformat_minor": 2
}
