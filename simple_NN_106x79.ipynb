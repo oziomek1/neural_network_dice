{
 "cells": [
  {
   "cell_type": "markdown",
   "metadata": {},
   "source": [
    "## Generator and Grayscale images\n",
    "Each image 106x79x1"
   ]
  },
  {
   "cell_type": "code",
   "execution_count": 1,
   "metadata": {},
   "outputs": [
    {
     "data": {
      "text/plain": [
       "[name: \"/device:CPU:0\"\n",
       " device_type: \"CPU\"\n",
       " memory_limit: 268435456\n",
       " locality {\n",
       " }\n",
       " incarnation: 8946185541544309813, name: \"/device:GPU:0\"\n",
       " device_type: \"GPU\"\n",
       " memory_limit: 356122624\n",
       " locality {\n",
       "   bus_id: 1\n",
       " }\n",
       " incarnation: 4391273740986002553\n",
       " physical_device_desc: \"device: 0, name: Tesla K80, pci bus id: 0000:00:1e.0, compute capability: 3.7\"]"
      ]
     },
     "execution_count": 1,
     "metadata": {},
     "output_type": "execute_result"
    }
   ],
   "source": [
    "import tensorflow as tf\n",
    "from tensorflow.python.client import device_lib\n",
    "sess = tf.Session(config=tf.ConfigProto(log_device_placement=True))\n",
    "device_lib.list_local_devices()"
   ]
  },
  {
   "cell_type": "code",
   "execution_count": 2,
   "metadata": {},
   "outputs": [
    {
     "name": "stderr",
     "output_type": "stream",
     "text": [
      "Using TensorFlow backend.\n"
     ]
    }
   ],
   "source": [
    "import numpy as np\n",
    "from keras.preprocessing.image import ImageDataGenerator\n",
    "from keras.models import Sequential\n",
    "from keras.layers import Conv2D, MaxPooling2D\n",
    "from keras.layers import Activation, Dropout, Flatten, Dense\n",
    "from keras.callbacks import ModelCheckpoint\n",
    "from keras.utils.vis_utils import plot_model\n",
    "from sklearn.utils import shuffle\n",
    "from keras import backend as K\n",
    "import matplotlib.pyplot as plt"
   ]
  },
  {
   "cell_type": "code",
   "execution_count": 3,
   "metadata": {},
   "outputs": [],
   "source": [
    "width, height = 106, 79\n",
    "train_data_dir = '../gen_x3_3/train'\n",
    "test_data_dir = '../gen_x3_3/test'\n",
    "nb_train_samples = 47232\n",
    "nb_test_samples = 11808\n",
    "epochs = 20\n",
    "batch_size = 512\n",
    "\n",
    "input_shape = (width, height, 1)"
   ]
  },
  {
   "cell_type": "code",
   "execution_count": 4,
   "metadata": {},
   "outputs": [
    {
     "name": "stdout",
     "output_type": "stream",
     "text": [
      "WARNING:tensorflow:From /usr/local/lib/python3.5/dist-packages/keras/backend/tensorflow_backend.py:1264: calling reduce_prod (from tensorflow.python.ops.math_ops) with keep_dims is deprecated and will be removed in a future version.\n",
      "Instructions for updating:\n",
      "keep_dims is deprecated, use keepdims instead\n"
     ]
    }
   ],
   "source": [
    "model = Sequential()\n",
    "model.add(Conv2D(32, kernel_size=(9, 6), strides=(2, 2), input_shape=input_shape, activation='relu'))\n",
    "model.add(MaxPooling2D(pool_size=(2, 2)))\n",
    "\n",
    "model.add(Conv2D(64, kernel_size=(7, 5), activation='relu'))\n",
    "model.add(MaxPooling2D(pool_size=(2, 2)))\n",
    "\n",
    "model.add(Conv2D(256, kernel_size=(5, 4), activation='relu'))\n",
    "model.add(MaxPooling2D(pool_size=(2, 2)))\n",
    "model.add(Flatten())\n",
    "\n",
    "model.add(Dense(1024, activation='relu'))\n",
    "model.add(Dropout(0.2))\n",
    "model.add(Dense(1024, activation='relu'))\n",
    "model.add(Dropout(0.2))\n",
    "model.add(Dense(256, activation='relu'))\n",
    "model.add(Dense(6, activation='softmax'))"
   ]
  },
  {
   "cell_type": "code",
   "execution_count": 5,
   "metadata": {},
   "outputs": [
    {
     "name": "stdout",
     "output_type": "stream",
     "text": [
      "WARNING:tensorflow:From /usr/local/lib/python3.5/dist-packages/keras/backend/tensorflow_backend.py:2885: calling reduce_sum (from tensorflow.python.ops.math_ops) with keep_dims is deprecated and will be removed in a future version.\n",
      "Instructions for updating:\n",
      "keep_dims is deprecated, use keepdims instead\n",
      "WARNING:tensorflow:From /usr/local/lib/python3.5/dist-packages/keras/backend/tensorflow_backend.py:1349: calling reduce_mean (from tensorflow.python.ops.math_ops) with keep_dims is deprecated and will be removed in a future version.\n",
      "Instructions for updating:\n",
      "keep_dims is deprecated, use keepdims instead\n"
     ]
    }
   ],
   "source": [
    "model.compile(loss='categorical_crossentropy',\n",
    "              optimizer='adam',\n",
    "              metrics=['accuracy'])"
   ]
  },
  {
   "cell_type": "code",
   "execution_count": 6,
   "metadata": {},
   "outputs": [
    {
     "name": "stdout",
     "output_type": "stream",
     "text": [
      "_________________________________________________________________\n",
      "Layer (type)                 Output Shape              Param #   \n",
      "=================================================================\n",
      "conv2d_1 (Conv2D)            (None, 49, 37, 32)        1760      \n",
      "_________________________________________________________________\n",
      "max_pooling2d_1 (MaxPooling2 (None, 24, 18, 32)        0         \n",
      "_________________________________________________________________\n",
      "conv2d_2 (Conv2D)            (None, 18, 14, 64)        71744     \n",
      "_________________________________________________________________\n",
      "max_pooling2d_2 (MaxPooling2 (None, 9, 7, 64)          0         \n",
      "_________________________________________________________________\n",
      "conv2d_3 (Conv2D)            (None, 5, 4, 256)         327936    \n",
      "_________________________________________________________________\n",
      "max_pooling2d_3 (MaxPooling2 (None, 2, 2, 256)         0         \n",
      "_________________________________________________________________\n",
      "flatten_1 (Flatten)          (None, 1024)              0         \n",
      "_________________________________________________________________\n",
      "dense_1 (Dense)              (None, 1024)              1049600   \n",
      "_________________________________________________________________\n",
      "dropout_1 (Dropout)          (None, 1024)              0         \n",
      "_________________________________________________________________\n",
      "dense_2 (Dense)              (None, 1024)              1049600   \n",
      "_________________________________________________________________\n",
      "dropout_2 (Dropout)          (None, 1024)              0         \n",
      "_________________________________________________________________\n",
      "dense_3 (Dense)              (None, 256)               262400    \n",
      "_________________________________________________________________\n",
      "dense_4 (Dense)              (None, 6)                 1542      \n",
      "=================================================================\n",
      "Total params: 2,764,582\n",
      "Trainable params: 2,764,582\n",
      "Non-trainable params: 0\n",
      "_________________________________________________________________\n",
      "None\n"
     ]
    }
   ],
   "source": [
    "# summarize model and apply checkpoints\n",
    "print(model.summary())\n",
    "filepath = 'simple_106x79/simple_NN_106x79-{epoch:02d}-{loss:.4f}.h5'\n",
    "checkpoint = ModelCheckpoint(filepath, monitor='loss', verbose=1, save_best_only=True, mode='min')\n",
    "callbacks_list = [checkpoint]"
   ]
  },
  {
   "cell_type": "code",
   "execution_count": 7,
   "metadata": {},
   "outputs": [],
   "source": [
    "train_datagen = ImageDataGenerator(\n",
    "    rescale=1. / 255,\n",
    "    shear_range=0.20,\n",
    "    zoom_range=0.15,\n",
    "    fill_mode='nearest')\n",
    "test_datagen = ImageDataGenerator(rescale=1. / 255)"
   ]
  },
  {
   "cell_type": "code",
   "execution_count": 8,
   "metadata": {},
   "outputs": [
    {
     "name": "stdout",
     "output_type": "stream",
     "text": [
      "Found 47232 images belonging to 6 classes.\n",
      "Found 11808 images belonging to 6 classes.\n"
     ]
    }
   ],
   "source": [
    "train_generator = train_datagen.flow_from_directory(\n",
    "    train_data_dir,\n",
    "    target_size=(width, height),\n",
    "    batch_size=batch_size,\n",
    "    color_mode='grayscale',\n",
    "    class_mode='categorical',\n",
    "    classes=['1', '2', '3', '4', '5', '6'],\n",
    "    shuffle=True,\n",
    "    seed=2018)\n",
    "\n",
    "test_generator = test_datagen.flow_from_directory(\n",
    "    test_data_dir,\n",
    "    target_size=(width, height),\n",
    "    batch_size=batch_size,\n",
    "    color_mode='grayscale',\n",
    "    class_mode='categorical',\n",
    "    classes=['1', '2', '3', '4', '5', '6'],\n",
    "    shuffle=True,\n",
    "    seed=2018)"
   ]
  },
  {
   "cell_type": "code",
   "execution_count": 9,
   "metadata": {},
   "outputs": [
    {
     "name": "stdout",
     "output_type": "stream",
     "text": [
      "Epoch 1/20\n",
      "91/92 [============================>.] - ETA: 0s - loss: 1.7585 - acc: 0.1971Epoch 00001: loss improved from inf to 1.75760, saving model to simple_106x79/simple_NN_106x79-01-1.7576.h5\n",
      "92/92 [==============================] - 52s 565ms/step - loss: 1.7578 - acc: 0.1976 - val_loss: 1.6955 - val_acc: 0.2445\n",
      "Epoch 2/20\n",
      "91/92 [============================>.] - ETA: 0s - loss: 1.6087 - acc: 0.2815Epoch 00002: loss improved from 1.75760 to 1.60726, saving model to simple_106x79/simple_NN_106x79-02-1.6073.h5\n",
      "92/92 [==============================] - 51s 555ms/step - loss: 1.6080 - acc: 0.2820 - val_loss: 1.5052 - val_acc: 0.3246\n",
      "Epoch 3/20\n",
      "91/92 [============================>.] - ETA: 0s - loss: 1.4678 - acc: 0.3438Epoch 00003: loss improved from 1.60726 to 1.46710, saving model to simple_106x79/simple_NN_106x79-03-1.4671.h5\n",
      "92/92 [==============================] - 51s 558ms/step - loss: 1.4669 - acc: 0.3443 - val_loss: 1.4317 - val_acc: 0.3638\n",
      "Epoch 4/20\n",
      "91/92 [============================>.] - ETA: 0s - loss: 1.3920 - acc: 0.3815Epoch 00004: loss improved from 1.46710 to 1.39223, saving model to simple_106x79/simple_NN_106x79-04-1.3922.h5\n",
      "92/92 [==============================] - 51s 557ms/step - loss: 1.3922 - acc: 0.3813 - val_loss: 1.3151 - val_acc: 0.4034\n",
      "Epoch 5/20\n",
      "91/92 [============================>.] - ETA: 0s - loss: 1.3442 - acc: 0.4013Epoch 00005: loss improved from 1.39223 to 1.34368, saving model to simple_106x79/simple_NN_106x79-05-1.3437.h5\n",
      "92/92 [==============================] - 51s 551ms/step - loss: 1.3434 - acc: 0.4017 - val_loss: 1.2868 - val_acc: 0.4356\n",
      "Epoch 6/20\n",
      "91/92 [============================>.] - ETA: 0s - loss: 1.2870 - acc: 0.4357Epoch 00006: loss improved from 1.34368 to 1.28699, saving model to simple_106x79/simple_NN_106x79-06-1.2870.h5\n",
      "92/92 [==============================] - 50s 549ms/step - loss: 1.2869 - acc: 0.4358 - val_loss: 1.2166 - val_acc: 0.4614\n",
      "Epoch 7/20\n",
      "91/92 [============================>.] - ETA: 0s - loss: 1.2481 - acc: 0.4511Epoch 00007: loss improved from 1.28699 to 1.24924, saving model to simple_106x79/simple_NN_106x79-07-1.2492.h5\n",
      "92/92 [==============================] - 50s 545ms/step - loss: 1.2481 - acc: 0.4512 - val_loss: 1.2038 - val_acc: 0.4715\n",
      "Epoch 8/20\n",
      "91/92 [============================>.] - ETA: 0s - loss: 1.2057 - acc: 0.4741Epoch 00008: loss improved from 1.24924 to 1.20668, saving model to simple_106x79/simple_NN_106x79-08-1.2067.h5\n",
      "92/92 [==============================] - 51s 549ms/step - loss: 1.2065 - acc: 0.4735 - val_loss: 1.1429 - val_acc: 0.5068\n",
      "Epoch 9/20\n",
      "91/92 [============================>.] - ETA: 0s - loss: 1.1527 - acc: 0.5021Epoch 00009: loss improved from 1.20668 to 1.15261, saving model to simple_106x79/simple_NN_106x79-09-1.1526.h5\n",
      "92/92 [==============================] - 51s 550ms/step - loss: 1.1522 - acc: 0.5023 - val_loss: 1.0498 - val_acc: 0.5478\n",
      "Epoch 10/20\n",
      "91/92 [============================>.] - ETA: 0s - loss: 1.1145 - acc: 0.5218Epoch 00010: loss improved from 1.15261 to 1.11481, saving model to simple_106x79/simple_NN_106x79-10-1.1148.h5\n",
      "92/92 [==============================] - 49s 538ms/step - loss: 1.1151 - acc: 0.5218 - val_loss: 1.0424 - val_acc: 0.5490\n",
      "Epoch 11/20\n",
      "91/92 [============================>.] - ETA: 0s - loss: 1.0507 - acc: 0.5463Epoch 00011: loss improved from 1.11481 to 1.05010, saving model to simple_106x79/simple_NN_106x79-11-1.0501.h5\n",
      "92/92 [==============================] - 49s 535ms/step - loss: 1.0501 - acc: 0.5464 - val_loss: 0.9682 - val_acc: 0.5889\n",
      "Epoch 12/20\n",
      "91/92 [============================>.] - ETA: 0s - loss: 1.0299 - acc: 0.5586Epoch 00012: loss improved from 1.05010 to 1.02895, saving model to simple_106x79/simple_NN_106x79-12-1.0289.h5\n",
      "92/92 [==============================] - 50s 541ms/step - loss: 1.0294 - acc: 0.5591 - val_loss: 0.9522 - val_acc: 0.5932\n",
      "Epoch 13/20\n",
      "91/92 [============================>.] - ETA: 0s - loss: 0.9806 - acc: 0.5859Epoch 00013: loss improved from 1.02895 to 0.98132, saving model to simple_106x79/simple_NN_106x79-13-0.9813.h5\n",
      "92/92 [==============================] - 49s 534ms/step - loss: 0.9808 - acc: 0.5857 - val_loss: 0.9329 - val_acc: 0.6057\n",
      "Epoch 14/20\n",
      "91/92 [============================>.] - ETA: 0s - loss: 0.9529 - acc: 0.5975Epoch 00014: loss improved from 0.98132 to 0.95244, saving model to simple_106x79/simple_NN_106x79-14-0.9524.h5\n",
      "92/92 [==============================] - 54s 582ms/step - loss: 0.9527 - acc: 0.5977 - val_loss: 0.8628 - val_acc: 0.6343\n",
      "Epoch 15/20\n",
      "91/92 [============================>.] - ETA: 0s - loss: 0.9069 - acc: 0.6184Epoch 00015: loss improved from 0.95244 to 0.90680, saving model to simple_106x79/simple_NN_106x79-15-0.9068.h5\n",
      "92/92 [==============================] - 52s 563ms/step - loss: 0.9067 - acc: 0.6184 - val_loss: 0.8344 - val_acc: 0.6495\n",
      "Epoch 16/20\n",
      "91/92 [============================>.] - ETA: 0s - loss: 0.8754 - acc: 0.6310Epoch 00016: loss improved from 0.90680 to 0.87542, saving model to simple_106x79/simple_NN_106x79-16-0.8754.h5\n",
      "92/92 [==============================] - 49s 536ms/step - loss: 0.8754 - acc: 0.6309 - val_loss: 0.8037 - val_acc: 0.6601\n",
      "Epoch 17/20\n",
      "91/92 [============================>.] - ETA: 0s - loss: 0.8642 - acc: 0.6379Epoch 00017: loss improved from 0.87542 to 0.86638, saving model to simple_106x79/simple_NN_106x79-17-0.8664.h5\n",
      "92/92 [==============================] - 48s 523ms/step - loss: 0.8648 - acc: 0.6376 - val_loss: 0.7729 - val_acc: 0.6707\n",
      "Epoch 18/20\n",
      "91/92 [============================>.] - ETA: 0s - loss: 0.8303 - acc: 0.6522Epoch 00018: loss improved from 0.86638 to 0.83122, saving model to simple_106x79/simple_NN_106x79-18-0.8312.h5\n",
      "92/92 [==============================] - 50s 543ms/step - loss: 0.8312 - acc: 0.6517 - val_loss: 0.7701 - val_acc: 0.6760\n",
      "Epoch 19/20\n",
      "91/92 [============================>.] - ETA: 0s - loss: 0.8107 - acc: 0.6611Epoch 00019: loss improved from 0.83122 to 0.81048, saving model to simple_106x79/simple_NN_106x79-19-0.8105.h5\n",
      "92/92 [==============================] - 49s 531ms/step - loss: 0.8109 - acc: 0.6609 - val_loss: 0.7529 - val_acc: 0.6750\n",
      "Epoch 20/20\n",
      "91/92 [============================>.] - ETA: 0s - loss: 0.7969 - acc: 0.6671Epoch 00020: loss improved from 0.81048 to 0.79563, saving model to simple_106x79/simple_NN_106x79-20-0.7956.h5\n",
      "92/92 [==============================] - 48s 524ms/step - loss: 0.7964 - acc: 0.6675 - val_loss: 0.7509 - val_acc: 0.6801\n"
     ]
    }
   ],
   "source": [
    "history = model.fit_generator(\n",
    "    train_generator,\n",
    "    steps_per_epoch=nb_train_samples // batch_size,\n",
    "    epochs=epochs,\n",
    "    verbose=1,\n",
    "    callbacks=callbacks_list,\n",
    "    shuffle=True,\n",
    "    validation_data=test_generator,\n",
    "    validation_steps=nb_test_samples // batch_size)"
   ]
  },
  {
   "cell_type": "code",
   "execution_count": 10,
   "metadata": {},
   "outputs": [
    {
     "name": "stdout",
     "output_type": "stream",
     "text": [
      "Accuracy: 68.03%\n",
      "Test loss: 0.7506392745144645\n",
      "Test accuracy 0.6803014905149052\n"
     ]
    }
   ],
   "source": [
    "score = model.evaluate_generator(test_generator)\n",
    "print(\"Accuracy: %.2f%%\" % (score[1]*100))\n",
    "print('Test loss:', score[0])\n",
    "print('Test accuracy', score[1])"
   ]
  },
  {
   "cell_type": "code",
   "execution_count": 11,
   "metadata": {},
   "outputs": [
    {
     "name": "stdout",
     "output_type": "stream",
     "text": [
      "Saved model weights\n"
     ]
    }
   ],
   "source": [
    "model_json = model.to_json()\n",
    "with open('simple_NN_106x79_model.json', 'w') as json_file:\n",
    "    json_file.write(model_json)\n",
    "    \n",
    "model.save_weights('simple_NN_106x79_weights.h5')\n",
    "print('Saved model weights')"
   ]
  },
  {
   "cell_type": "code",
   "execution_count": 12,
   "metadata": {},
   "outputs": [
    {
     "data": {
      "image/png": "[encoded data removed]",
      "text/plain": [
       "<matplotlib.figure.Figure at 0x7fb4f18a3470>"
      ]
     },
     "metadata": {},
     "output_type": "display_data"
    }
   ],
   "source": [
    "#summarize for accuracy\n",
    "plt.plot(history.history['acc'])\n",
    "plt.plot(history.history['val_acc'])\n",
    "plt.title('model accuracy')\n",
    "plt.ylabel('accuracy')\n",
    "plt.xlabel('epoch')\n",
    "plt.legend(['train', 'test'], loc='upper left')\n",
    "plt.show()"
   ]
  },
  {
   "cell_type": "code",
   "execution_count": 13,
   "metadata": {},
   "outputs": [
    {
     "data": {
      "image/png": "[encoded data removed]",
      "text/plain": [
       "<matplotlib.figure.Figure at 0x7fb4f183def0>"
      ]
     },
     "metadata": {},
     "output_type": "display_data"
    }
   ],
   "source": [
    "#summarize for loss\n",
    "plt.plot(history.history['loss'])\n",
    "plt.plot(history.history['val_loss'])\n",
    "plt.title('model loss')\n",
    "plt.ylabel('loss')\n",
    "plt.xlabel('epoch')\n",
    "plt.legend(['train', 'test'], loc='upper left')\n",
    "plt.show()"
   ]
  },
  {
   "cell_type": "code",
   "execution_count": 14,
   "metadata": {},
   "outputs": [],
   "source": [
    "plot_model(model, to_file='simple_106x79/simple_NN_106x79_plot.png', show_shapes=True, show_layer_names=True)"
   ]
  },
  {
   "cell_type": "code",
   "execution_count": null,
   "metadata": {},
   "outputs": [],
   "source": []
  }
 ],
 "metadata": {
  "kernelspec": {
   "display_name": "Python 3",
   "language": "python",
   "name": "python3"
  },
  "language_info": {
   "codemirror_mode": {
    "name": "ipython",
    "version": 3
   },
   "file_extension": ".py",
   "mimetype": "text/x-python",
   "name": "python",
   "nbconvert_exporter": "python",
   "pygments_lexer": "ipython3",
   "version": "3.5.2"
  }
 },
 "nbformat": 4,
 "nbformat_minor": 2
}
