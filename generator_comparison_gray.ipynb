{
 "cells": [
  {
   "cell_type": "markdown",
   "metadata": {},
   "source": [
    "## This notebook is made for comparison between dataset provided by loading the whole one into notebook vs the using a generator\n",
    "\n",
    "HERE photos are in grayscale"
   ]
  },
  {
   "cell_type": "code",
   "execution_count": 1,
   "metadata": {},
   "outputs": [
    {
     "data": {
      "text/plain": [
       "[name: \"/device:CPU:0\"\n",
       " device_type: \"CPU\"\n",
       " memory_limit: 268435456\n",
       " locality {\n",
       " }\n",
       " incarnation: 13249832049308162826, name: \"/device:GPU:0\"\n",
       " device_type: \"GPU\"\n",
       " memory_limit: 356122624\n",
       " locality {\n",
       "   bus_id: 1\n",
       " }\n",
       " incarnation: 1486328241421701552\n",
       " physical_device_desc: \"device: 0, name: Tesla K80, pci bus id: 0000:00:1e.0, compute capability: 3.7\"]"
      ]
     },
     "execution_count": 1,
     "metadata": {},
     "output_type": "execute_result"
    }
   ],
   "source": [
    "import tensorflow as tf\n",
    "from tensorflow.python.client import device_lib\n",
    "sess = tf.Session(config=tf.ConfigProto(log_device_placement=True))\n",
    "device_lib.list_local_devices()"
   ]
  },
  {
   "cell_type": "code",
   "execution_count": 2,
   "metadata": {},
   "outputs": [
    {
     "name": "stderr",
     "output_type": "stream",
     "text": [
      "Using TensorFlow backend.\n"
     ]
    }
   ],
   "source": [
    "import numpy as np\n",
    "from keras.preprocessing.image import ImageDataGenerator\n",
    "from keras.models import Sequential\n",
    "from keras.layers import Conv2D, MaxPooling2D\n",
    "from keras.layers import Activation, Dropout, Flatten, Dense\n",
    "from keras.callbacks import ModelCheckpoint\n",
    "from keras.utils.vis_utils import plot_model\n",
    "from sklearn.utils import shuffle\n",
    "from keras import backend as K\n",
    "import matplotlib.pyplot as plt"
   ]
  },
  {
   "cell_type": "code",
   "execution_count": 13,
   "metadata": {},
   "outputs": [],
   "source": [
    "width, height = 64, 64\n",
    "train_data_dir = '../zdjecia_gen/train'\n",
    "test_data_dir = '../zdjecia_gen/test'\n",
    "nb_train_samples = 40320\n",
    "nb_test_samples = 10080\n",
    "epochs = 20\n",
    "batch_size = 256\n",
    "\n",
    "input_shape = (width, height, 1)"
   ]
  },
  {
   "cell_type": "code",
   "execution_count": 4,
   "metadata": {},
   "outputs": [
    {
     "name": "stdout",
     "output_type": "stream",
     "text": [
      "WARNING:tensorflow:From /usr/local/lib/python3.5/dist-packages/keras/backend/tensorflow_backend.py:1264: calling reduce_prod (from tensorflow.python.ops.math_ops) with keep_dims is deprecated and will be removed in a future version.\n",
      "Instructions for updating:\n",
      "keep_dims is deprecated, use keepdims instead\n"
     ]
    }
   ],
   "source": [
    "model = Sequential()\n",
    "model.add(Conv2D(32, (5, 5), input_shape=input_shape))\n",
    "model.add(Activation('relu'))\n",
    "model.add(MaxPooling2D(pool_size=(2, 2)))\n",
    "\n",
    "model.add(Conv2D(32, (3, 3)))\n",
    "model.add(Activation('relu'))\n",
    "model.add(MaxPooling2D(pool_size=(2, 2)))\n",
    "\n",
    "model.add(Conv2D(64, (3, 3)))\n",
    "model.add(Activation('relu'))\n",
    "model.add(MaxPooling2D(pool_size=(2, 2)))\n",
    "\n",
    "model.add(Flatten())\n",
    "model.add(Dense(1024))\n",
    "model.add(Activation('relu'))\n",
    "model.add(Dropout(0.5))\n",
    "model.add(Dense(64))\n",
    "model.add(Activation('relu'))\n",
    "model.add(Dense(6, activation='softmax'))"
   ]
  },
  {
   "cell_type": "code",
   "execution_count": 5,
   "metadata": {},
   "outputs": [
    {
     "name": "stdout",
     "output_type": "stream",
     "text": [
      "WARNING:tensorflow:From /usr/local/lib/python3.5/dist-packages/keras/backend/tensorflow_backend.py:2885: calling reduce_sum (from tensorflow.python.ops.math_ops) with keep_dims is deprecated and will be removed in a future version.\n",
      "Instructions for updating:\n",
      "keep_dims is deprecated, use keepdims instead\n",
      "WARNING:tensorflow:From /usr/local/lib/python3.5/dist-packages/keras/backend/tensorflow_backend.py:1349: calling reduce_mean (from tensorflow.python.ops.math_ops) with keep_dims is deprecated and will be removed in a future version.\n",
      "Instructions for updating:\n",
      "keep_dims is deprecated, use keepdims instead\n"
     ]
    }
   ],
   "source": [
    "model.compile(loss='categorical_crossentropy',\n",
    "              optimizer='RMSprop',\n",
    "              metrics=['accuracy'])"
   ]
  },
  {
   "cell_type": "code",
   "execution_count": 6,
   "metadata": {},
   "outputs": [
    {
     "name": "stdout",
     "output_type": "stream",
     "text": [
      "_________________________________________________________________\n",
      "Layer (type)                 Output Shape              Param #   \n",
      "=================================================================\n",
      "conv2d_1 (Conv2D)            (None, 60, 60, 32)        832       \n",
      "_________________________________________________________________\n",
      "activation_1 (Activation)    (None, 60, 60, 32)        0         \n",
      "_________________________________________________________________\n",
      "max_pooling2d_1 (MaxPooling2 (None, 30, 30, 32)        0         \n",
      "_________________________________________________________________\n",
      "conv2d_2 (Conv2D)            (None, 28, 28, 32)        9248      \n",
      "_________________________________________________________________\n",
      "activation_2 (Activation)    (None, 28, 28, 32)        0         \n",
      "_________________________________________________________________\n",
      "max_pooling2d_2 (MaxPooling2 (None, 14, 14, 32)        0         \n",
      "_________________________________________________________________\n",
      "conv2d_3 (Conv2D)            (None, 12, 12, 64)        18496     \n",
      "_________________________________________________________________\n",
      "activation_3 (Activation)    (None, 12, 12, 64)        0         \n",
      "_________________________________________________________________\n",
      "max_pooling2d_3 (MaxPooling2 (None, 6, 6, 64)          0         \n",
      "_________________________________________________________________\n",
      "flatten_1 (Flatten)          (None, 2304)              0         \n",
      "_________________________________________________________________\n",
      "dense_1 (Dense)              (None, 1024)              2360320   \n",
      "_________________________________________________________________\n",
      "activation_4 (Activation)    (None, 1024)              0         \n",
      "_________________________________________________________________\n",
      "dropout_1 (Dropout)          (None, 1024)              0         \n",
      "_________________________________________________________________\n",
      "dense_2 (Dense)              (None, 64)                65600     \n",
      "_________________________________________________________________\n",
      "activation_5 (Activation)    (None, 64)                0         \n",
      "_________________________________________________________________\n",
      "dense_3 (Dense)              (None, 6)                 390       \n",
      "=================================================================\n",
      "Total params: 2,454,886\n",
      "Trainable params: 2,454,886\n",
      "Non-trainable params: 0\n",
      "_________________________________________________________________\n",
      "None\n"
     ]
    }
   ],
   "source": [
    "# summarize model and apply checkpoints\n",
    "print(model.summary())\n",
    "filepath = 'comparison_gray-{epoch:02d}-{loss:.4f}.h5'\n",
    "checkpoint = ModelCheckpoint(filepath, monitor='loss', verbose=1, save_best_only=True, mode='min')\n",
    "callbacks_list = [checkpoint]"
   ]
  },
  {
   "cell_type": "code",
   "execution_count": 7,
   "metadata": {},
   "outputs": [],
   "source": [
    "train_datagen = ImageDataGenerator(\n",
    "    rescale=1. / 255)\n",
    "test_datagen = ImageDataGenerator(rescale=1. / 255)"
   ]
  },
  {
   "cell_type": "code",
   "execution_count": 11,
   "metadata": {},
   "outputs": [
    {
     "name": "stdout",
     "output_type": "stream",
     "text": [
      "Found 40320 images belonging to 6 classes.\n",
      "Found 10080 images belonging to 6 classes.\n"
     ]
    }
   ],
   "source": [
    "train_generator = train_datagen.flow_from_directory(\n",
    "    train_data_dir,\n",
    "    target_size=(width, height),\n",
    "    color_mode='grayscale',\n",
    "    batch_size=batch_size,\n",
    "    class_mode='categorical',\n",
    "    classes=['1', '2', '3', '4', '5', '6'],\n",
    "    shuffle=True,\n",
    "    seed=2018)\n",
    "\n",
    "test_generator = test_datagen.flow_from_directory(\n",
    "    test_data_dir,\n",
    "    target_size=(width, height),\n",
    "    color_mode='grayscale',\n",
    "    batch_size=batch_size,\n",
    "    class_mode='categorical',\n",
    "    classes=['1', '2', '3', '4', '5', '6'],\n",
    "    shuffle=True,\n",
    "    seed=2018)"
   ]
  },
  {
   "cell_type": "code",
   "execution_count": 14,
   "metadata": {},
   "outputs": [
    {
     "name": "stdout",
     "output_type": "stream",
     "text": [
      "Epoch 1/20\n",
      "156/157 [============================>.] - ETA: 0s - loss: 1.2150 - acc: 0.4968Epoch 00001: loss improved from 1.68595 to 1.21279, saving model to comparison_gray-01-1.2128.h5\n",
      "157/157 [==============================] - 16s 104ms/step - loss: 1.2128 - acc: 0.4980 - val_loss: 0.8271 - val_acc: 0.7006\n",
      "Epoch 2/20\n",
      "156/157 [============================>.] - ETA: 0s - loss: 0.8280 - acc: 0.6759Epoch 00002: loss improved from 1.21279 to 0.82745, saving model to comparison_gray-02-0.8274.h5\n",
      "157/157 [==============================] - 16s 104ms/step - loss: 0.8272 - acc: 0.6762 - val_loss: 0.6477 - val_acc: 0.7534\n",
      "Epoch 3/20\n",
      "156/157 [============================>.] - ETA: 0s - loss: 0.5863 - acc: 0.7783Epoch 00003: loss improved from 0.82745 to 0.58562, saving model to comparison_gray-03-0.5856.h5\n",
      "157/157 [==============================] - 16s 103ms/step - loss: 0.5850 - acc: 0.7788 - val_loss: 0.4391 - val_acc: 0.8405\n",
      "Epoch 4/20\n",
      "156/157 [============================>.] - ETA: 0s - loss: 0.4415 - acc: 0.8391Epoch 00004: loss improved from 0.58562 to 0.44125, saving model to comparison_gray-04-0.4413.h5\n",
      "157/157 [==============================] - 16s 104ms/step - loss: 0.4411 - acc: 0.8391 - val_loss: 0.4024 - val_acc: 0.8490\n",
      "Epoch 5/20\n",
      "156/157 [============================>.] - ETA: 0s - loss: 0.3658 - acc: 0.8702Epoch 00005: loss improved from 0.44125 to 0.36483, saving model to comparison_gray-05-0.3648.h5\n",
      "157/157 [==============================] - 16s 105ms/step - loss: 0.3648 - acc: 0.8705 - val_loss: 0.2184 - val_acc: 0.9238\n",
      "Epoch 6/20\n",
      "156/157 [============================>.] - ETA: 0s - loss: 0.2703 - acc: 0.9015Epoch 00006: loss improved from 0.36483 to 0.26977, saving model to comparison_gray-06-0.2698.h5\n",
      "157/157 [==============================] - 16s 105ms/step - loss: 0.2694 - acc: 0.9019 - val_loss: 0.1967 - val_acc: 0.9251\n",
      "Epoch 7/20\n",
      "156/157 [============================>.] - ETA: 0s - loss: 0.2343 - acc: 0.9190Epoch 00007: loss improved from 0.26977 to 0.23642, saving model to comparison_gray-07-0.2364.h5\n",
      "157/157 [==============================] - 16s 105ms/step - loss: 0.2362 - acc: 0.9181 - val_loss: 0.2315 - val_acc: 0.9207\n",
      "Epoch 8/20\n",
      "156/157 [============================>.] - ETA: 0s - loss: 0.1835 - acc: 0.9362Epoch 00008: loss improved from 0.23642 to 0.18348, saving model to comparison_gray-08-0.1835.h5\n",
      "157/157 [==============================] - 17s 108ms/step - loss: 0.1833 - acc: 0.9363 - val_loss: 0.1260 - val_acc: 0.9571\n",
      "Epoch 9/20\n",
      "156/157 [============================>.] - ETA: 0s - loss: 0.1503 - acc: 0.9497Epoch 00009: loss improved from 0.18348 to 0.15168, saving model to comparison_gray-09-0.1517.h5\n",
      "157/157 [==============================] - 17s 105ms/step - loss: 0.1516 - acc: 0.9492 - val_loss: 0.8209 - val_acc: 0.7964\n",
      "Epoch 10/20\n",
      "156/157 [============================>.] - ETA: 0s - loss: 0.1411 - acc: 0.9545Epoch 00010: loss improved from 0.15168 to 0.14106, saving model to comparison_gray-10-0.1411.h5\n",
      "157/157 [==============================] - 17s 106ms/step - loss: 0.1408 - acc: 0.9545 - val_loss: 0.0958 - val_acc: 0.9647\n",
      "Epoch 11/20\n",
      "156/157 [============================>.] - ETA: 0s - loss: 0.1071 - acc: 0.9634Epoch 00011: loss improved from 0.14106 to 0.10743, saving model to comparison_gray-11-0.1074.h5\n",
      "157/157 [==============================] - 17s 105ms/step - loss: 0.1075 - acc: 0.9631 - val_loss: 0.1785 - val_acc: 0.9352\n",
      "Epoch 12/20\n",
      "156/157 [============================>.] - ETA: 0s - loss: 0.0963 - acc: 0.9714Epoch 00012: loss improved from 0.10743 to 0.09599, saving model to comparison_gray-12-0.0960.h5\n",
      "157/157 [==============================] - 17s 106ms/step - loss: 0.0959 - acc: 0.9715 - val_loss: 0.0683 - val_acc: 0.9772\n",
      "Epoch 13/20\n",
      "156/157 [============================>.] - ETA: 0s - loss: 0.0958 - acc: 0.9712Epoch 00013: loss improved from 0.09599 to 0.09533, saving model to comparison_gray-13-0.0953.h5\n",
      "157/157 [==============================] - 17s 105ms/step - loss: 0.0953 - acc: 0.9714 - val_loss: 0.0661 - val_acc: 0.9774\n",
      "Epoch 14/20\n",
      "156/157 [============================>.] - ETA: 0s - loss: 0.0777 - acc: 0.9774Epoch 00014: loss improved from 0.09533 to 0.08296, saving model to comparison_gray-14-0.0830.h5\n",
      "157/157 [==============================] - 17s 107ms/step - loss: 0.0827 - acc: 0.9758 - val_loss: 0.2670 - val_acc: 0.9014\n",
      "Epoch 15/20\n",
      "156/157 [============================>.] - ETA: 0s - loss: 0.0766 - acc: 0.9788Epoch 00015: loss improved from 0.08296 to 0.07917, saving model to comparison_gray-15-0.0792.h5\n",
      "157/157 [==============================] - 17s 108ms/step - loss: 0.0790 - acc: 0.9783 - val_loss: 0.4466 - val_acc: 0.8759\n",
      "Epoch 16/20\n",
      "156/157 [============================>.] - ETA: 0s - loss: 0.0646 - acc: 0.9814Epoch 00016: loss improved from 0.07917 to 0.06460, saving model to comparison_gray-16-0.0646.h5\n",
      "157/157 [==============================] - 17s 111ms/step - loss: 0.0645 - acc: 0.9814 - val_loss: 0.0974 - val_acc: 0.9691\n",
      "Epoch 17/20\n",
      "156/157 [============================>.] - ETA: 0s - loss: 0.0647 - acc: 0.9811Epoch 00017: loss improved from 0.06460 to 0.06456, saving model to comparison_gray-17-0.0646.h5\n",
      "157/157 [==============================] - 18s 112ms/step - loss: 0.0644 - acc: 0.9812 - val_loss: 0.0676 - val_acc: 0.9788\n",
      "Epoch 18/20\n",
      "156/157 [============================>.] - ETA: 0s - loss: 0.0549 - acc: 0.9857Epoch 00018: loss improved from 0.06456 to 0.05481, saving model to comparison_gray-18-0.0548.h5\n",
      "157/157 [==============================] - 17s 106ms/step - loss: 0.0546 - acc: 0.9858 - val_loss: 0.0603 - val_acc: 0.9811\n",
      "Epoch 19/20\n",
      "156/157 [============================>.] - ETA: 0s - loss: 0.0415 - acc: 0.9891Epoch 00019: loss improved from 0.05481 to 0.04141, saving model to comparison_gray-19-0.0414.h5\n",
      "157/157 [==============================] - 17s 107ms/step - loss: 0.0413 - acc: 0.9891 - val_loss: 0.0610 - val_acc: 0.9838\n",
      "Epoch 20/20\n",
      "156/157 [============================>.] - ETA: 0s - loss: 0.0401 - acc: 0.9892Epoch 00020: loss improved from 0.04141 to 0.04023, saving model to comparison_gray-20-0.0402.h5\n",
      "157/157 [==============================] - 17s 108ms/step - loss: 0.0402 - acc: 0.9891 - val_loss: 0.0581 - val_acc: 0.9812\n"
     ]
    }
   ],
   "source": [
    "history = model.fit_generator(\n",
    "    train_generator,\n",
    "    steps_per_epoch=nb_train_samples // batch_size,\n",
    "    epochs=epochs,\n",
    "    verbose=1,\n",
    "    callbacks=callbacks_list,\n",
    "    shuffle=True,\n",
    "    validation_data=test_generator,\n",
    "    validation_steps=nb_test_samples // batch_size)"
   ]
  },
  {
   "cell_type": "code",
   "execution_count": 16,
   "metadata": {},
   "outputs": [
    {
     "name": "stdout",
     "output_type": "stream",
     "text": [
      "dict_keys(['loss', 'acc', 'val_loss', 'val_acc'])\n"
     ]
    }
   ],
   "source": [
    "print(history.history.keys())"
   ]
  },
  {
   "cell_type": "code",
   "execution_count": 17,
   "metadata": {},
   "outputs": [],
   "source": [
    "score = model.evaluate_generator(test_generator)"
   ]
  },
  {
   "cell_type": "code",
   "execution_count": 18,
   "metadata": {},
   "outputs": [
    {
     "name": "stdout",
     "output_type": "stream",
     "text": [
      "Accuracy: 98.12%\n",
      "Test loss: 0.05799690048609461\n",
      "Test accuracy 0.9812499998107789\n"
     ]
    }
   ],
   "source": [
    "print(\"Accuracy: %.2f%%\" % (score[1]*100))\n",
    "print('Test loss:', score[0])\n",
    "print('Test accuracy', score[1])"
   ]
  },
  {
   "cell_type": "code",
   "execution_count": 19,
   "metadata": {},
   "outputs": [
    {
     "name": "stdout",
     "output_type": "stream",
     "text": [
      "Saved model weights\n"
     ]
    }
   ],
   "source": [
    "model_json = model.to_json()\n",
    "with open('comparison_gray_model.json', 'w') as json_file:\n",
    "    json_file.write(model_json)\n",
    "    \n",
    "model.save_weights('comparison_gray_weights.h5')\n",
    "print('Saved model weights')"
   ]
  },
  {
   "cell_type": "code",
   "execution_count": 20,
   "metadata": {},
   "outputs": [
    {
     "data": {
      "image/png": "[encoded data removed]",
      "text/plain": [
       "<matplotlib.figure.Figure at 0x7f59be54f0f0>"
      ]
     },
     "metadata": {},
     "output_type": "display_data"
    }
   ],
   "source": [
    "#summarize for accuracy\n",
    "plt.plot(history.history['acc'])\n",
    "plt.plot(history.history['val_acc'])\n",
    "plt.title('model accuracy')\n",
    "plt.ylabel('accuracy')\n",
    "plt.xlabel('epoch')\n",
    "plt.legend(['train', 'test'], loc='upper left')\n",
    "plt.show()"
   ]
  },
  {
   "cell_type": "code",
   "execution_count": 21,
   "metadata": {},
   "outputs": [
    {
     "data": {
      "image/png": "[encoded data removed]",
      "text/plain": [
       "<matplotlib.figure.Figure at 0x7f59be51cc50>"
      ]
     },
     "metadata": {},
     "output_type": "display_data"
    }
   ],
   "source": [
    "#summarize for loss\n",
    "plt.plot(history.history['loss'])\n",
    "plt.plot(history.history['val_loss'])\n",
    "plt.title('model loss')\n",
    "plt.ylabel('loss')\n",
    "plt.xlabel('epoch')\n",
    "plt.legend(['train', 'test'], loc='upper left')\n",
    "plt.show()"
   ]
  },
  {
   "cell_type": "code",
   "execution_count": null,
   "metadata": {},
   "outputs": [],
   "source": []
  }
 ],
 "metadata": {
  "kernelspec": {
   "display_name": "Python 3",
   "language": "python",
   "name": "python3"
  },
  "language_info": {
   "codemirror_mode": {
    "name": "ipython",
    "version": 3
   },
   "file_extension": ".py",
   "mimetype": "text/x-python",
   "name": "python",
   "nbconvert_exporter": "python",
   "pygments_lexer": "ipython3",
   "version": "3.5.2"
  }
 },
 "nbformat": 4,
 "nbformat_minor": 2
}
